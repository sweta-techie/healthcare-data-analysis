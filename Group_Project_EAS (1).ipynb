{
 "cells": [
  {
   "cell_type": "markdown",
   "id": "3588a946",
   "metadata": {},
   "source": [
    "# PROJECT TITLE : HealthCare Analysis"
   ]
  },
  {
   "cell_type": "code",
   "execution_count": 2,
   "id": "edd8ff30",
   "metadata": {},
   "outputs": [],
   "source": [
    "import pandas as pd\n",
    "import sqlite3\n",
    "from sqlite3 import Error\n",
    "\n",
    "def create_connection(db_file, delete_db=False):\n",
    "    import os\n",
    "    if delete_db and os.path.exists(db_file):\n",
    "        os.remove(db_file)\n",
    "\n",
    "    conn = None\n",
    "    try:\n",
    "        conn = sqlite3.connect(db_file)\n",
    "        conn.execute(\"PRAGMA foreign_keys = 1\")\n",
    "    except Error as e:\n",
    "        print(e)\n",
    "\n",
    "    return conn"
   ]
  },
  {
   "cell_type": "code",
   "execution_count": 3,
   "id": "45701010",
   "metadata": {},
   "outputs": [],
   "source": [
    "def create_table(conn, create_table_sql, drop_table_name=None):\n",
    "    \n",
    "    if drop_table_name: # You can optionally pass drop_table_name to drop the table. \n",
    "        try:\n",
    "            c = conn.cursor()\n",
    "            c.execute(\"\"\"DROP TABLE IF EXISTS %s\"\"\" % (drop_table_name))\n",
    "        except Error as e:\n",
    "            print(e)\n",
    "    \n",
    "    try:\n",
    "        c = conn.cursor()\n",
    "        c.execute(create_table_sql)\n",
    "    except Error as e:\n",
    "        print(e)\n",
    "        \n",
    "def execute_sql_statement(sql_statement, conn):\n",
    "    cur = conn.cursor()\n",
    "    cur.execute(sql_statement)\n",
    "\n",
    "    rows = cur.fetchall()\n",
    "\n",
    "    return rows"
   ]
  },
  {
   "cell_type": "markdown",
   "id": "d17c1c24",
   "metadata": {},
   "source": [
    "# Create Patient Table"
   ]
  },
  {
   "cell_type": "code",
   "execution_count": 10,
   "id": "94190923",
   "metadata": {},
   "outputs": [],
   "source": [
    "def patient_table(data_filename, normalized_database_filename):\n",
    "    # Inputs: Name of the data and normalized database filename\n",
    "    # Output: None\n",
    "    normalized_conn = create_connection(normalized_database_filename,delete_db=True)\n",
    "    create_table(normalized_conn,\"\"\"CREATE TABLE IF NOT Exists [Patient]([PatientID] INTEGER NOT NULL PRIMARY KEY,\n",
    "                                     [Name] TEXT NOT NULL,\n",
    "                                     [Age] INTEGER NOT NULL,\n",
    "                                     [Gender] TEXT NOT NULL,\n",
    "                                     [Blood Group] TEXT NOT NULL);\"\"\")\n",
    "    ls = []\n",
    "    with open('healthcare_dataset.csv','r') as file:\n",
    "        for line in file:\n",
    "            if not line.strip():\n",
    "                continue\n",
    "            ls.append(line.strip())\n",
    "        name = []\n",
    "        age = []\n",
    "        gender = []\n",
    "        blood_group = []\n",
    "        for i in ls[1:]:\n",
    "            n = i.split(',')[0]\n",
    "            a = i.split(',')[1]\n",
    "            g = i.split(',')[2]\n",
    "            bg = i.split(',')[3]\n",
    "            if n not in name:\n",
    "                name.append(n)\n",
    "                age.append(a)\n",
    "                gender.append(g)\n",
    "                blood_group.append(bg)\n",
    "            \n",
    "        pat = list(zip(name,age,gender,blood_group))\n",
    "        pat = sorted(pat, key = lambda x: x[0])\n",
    "        \n",
    "        \n",
    "        sql = '''INSERT INTO Patient(Name,Age,Gender,\"Blood Group\") VALUES(?,?,?,?)'''\n",
    "        with normalized_conn:\n",
    "            normalized_conn.executemany(sql,pat)\n",
    "        normalized_conn.close()"
   ]
  },
  {
   "cell_type": "code",
   "execution_count": 11,
   "id": "131b397e",
   "metadata": {},
   "outputs": [],
   "source": [
    "patient_table('healthcare_dataset.csv','healthcare.db')"
   ]
  },
  {
   "cell_type": "code",
   "execution_count": 12,
   "id": "312f4974",
   "metadata": {},
   "outputs": [
    {
     "data": {
      "text/html": [
       "<div>\n",
       "<style scoped>\n",
       "    .dataframe tbody tr th:only-of-type {\n",
       "        vertical-align: middle;\n",
       "    }\n",
       "\n",
       "    .dataframe tbody tr th {\n",
       "        vertical-align: top;\n",
       "    }\n",
       "\n",
       "    .dataframe thead th {\n",
       "        text-align: right;\n",
       "    }\n",
       "</style>\n",
       "<table border=\"1\" class=\"dataframe\">\n",
       "  <thead>\n",
       "    <tr style=\"text-align: right;\">\n",
       "      <th></th>\n",
       "      <th>PatientID</th>\n",
       "      <th>Name</th>\n",
       "      <th>Age</th>\n",
       "      <th>Gender</th>\n",
       "      <th>Blood Group</th>\n",
       "    </tr>\n",
       "  </thead>\n",
       "  <tbody>\n",
       "    <tr>\n",
       "      <th>0</th>\n",
       "      <td>1</td>\n",
       "      <td>Aaron Burnett</td>\n",
       "      <td>54</td>\n",
       "      <td>Female</td>\n",
       "      <td>A-</td>\n",
       "    </tr>\n",
       "    <tr>\n",
       "      <th>1</th>\n",
       "      <td>2</td>\n",
       "      <td>Aaron Calderon</td>\n",
       "      <td>35</td>\n",
       "      <td>Female</td>\n",
       "      <td>AB+</td>\n",
       "    </tr>\n",
       "    <tr>\n",
       "      <th>2</th>\n",
       "      <td>3</td>\n",
       "      <td>Aaron Coleman</td>\n",
       "      <td>69</td>\n",
       "      <td>Male</td>\n",
       "      <td>A+</td>\n",
       "    </tr>\n",
       "    <tr>\n",
       "      <th>3</th>\n",
       "      <td>4</td>\n",
       "      <td>Aaron Daugherty</td>\n",
       "      <td>34</td>\n",
       "      <td>Male</td>\n",
       "      <td>B+</td>\n",
       "    </tr>\n",
       "    <tr>\n",
       "      <th>4</th>\n",
       "      <td>5</td>\n",
       "      <td>Aaron Davis</td>\n",
       "      <td>22</td>\n",
       "      <td>Female</td>\n",
       "      <td>AB-</td>\n",
       "    </tr>\n",
       "    <tr>\n",
       "      <th>...</th>\n",
       "      <td>...</td>\n",
       "      <td>...</td>\n",
       "      <td>...</td>\n",
       "      <td>...</td>\n",
       "      <td>...</td>\n",
       "    </tr>\n",
       "    <tr>\n",
       "      <th>9373</th>\n",
       "      <td>9374</td>\n",
       "      <td>Zachary Wood</td>\n",
       "      <td>36</td>\n",
       "      <td>Male</td>\n",
       "      <td>O-</td>\n",
       "    </tr>\n",
       "    <tr>\n",
       "      <th>9374</th>\n",
       "      <td>9375</td>\n",
       "      <td>Zachary Yates</td>\n",
       "      <td>37</td>\n",
       "      <td>Male</td>\n",
       "      <td>A-</td>\n",
       "    </tr>\n",
       "    <tr>\n",
       "      <th>9375</th>\n",
       "      <td>9376</td>\n",
       "      <td>Zoe Adkins DVM</td>\n",
       "      <td>30</td>\n",
       "      <td>Female</td>\n",
       "      <td>A+</td>\n",
       "    </tr>\n",
       "    <tr>\n",
       "      <th>9376</th>\n",
       "      <td>9377</td>\n",
       "      <td>Zoe Henderson</td>\n",
       "      <td>67</td>\n",
       "      <td>Female</td>\n",
       "      <td>AB+</td>\n",
       "    </tr>\n",
       "    <tr>\n",
       "      <th>9377</th>\n",
       "      <td>9378</td>\n",
       "      <td>Zoe Moore</td>\n",
       "      <td>74</td>\n",
       "      <td>Male</td>\n",
       "      <td>O-</td>\n",
       "    </tr>\n",
       "  </tbody>\n",
       "</table>\n",
       "<p>9378 rows × 5 columns</p>\n",
       "</div>"
      ],
      "text/plain": [
       "      PatientID             Name  Age  Gender Blood Group\n",
       "0             1    Aaron Burnett   54  Female          A-\n",
       "1             2   Aaron Calderon   35  Female         AB+\n",
       "2             3    Aaron Coleman   69    Male          A+\n",
       "3             4  Aaron Daugherty   34    Male          B+\n",
       "4             5      Aaron Davis   22  Female         AB-\n",
       "...         ...              ...  ...     ...         ...\n",
       "9373       9374     Zachary Wood   36    Male          O-\n",
       "9374       9375    Zachary Yates   37    Male          A-\n",
       "9375       9376   Zoe Adkins DVM   30  Female          A+\n",
       "9376       9377    Zoe Henderson   67  Female         AB+\n",
       "9377       9378        Zoe Moore   74    Male          O-\n",
       "\n",
       "[9378 rows x 5 columns]"
      ]
     },
     "metadata": {},
     "output_type": "display_data"
    }
   ],
   "source": [
    "conn = sqlite3.connect(\"healthcare.db\")\n",
    "df = pd.read_sql_query(\"\"\"SELECT * FROM Patient\"\"\", conn)\n",
    "display(df)"
   ]
  },
  {
   "cell_type": "markdown",
   "id": "078a8206",
   "metadata": {},
   "source": [
    "# Create Doctor Table"
   ]
  },
  {
   "cell_type": "code",
   "execution_count": 13,
   "id": "e86e8f72",
   "metadata": {},
   "outputs": [],
   "source": [
    "def doctor_table(data_filename, normalized_database_filename):\n",
    "    \n",
    "    normalized_conn = create_connection(normalized_database_filename)\n",
    "    create_table(normalized_conn,\"\"\"CREATE TABLE IF NOT Exists [Doctor]([DoctorID] INTEGER NOT NULL PRIMARY KEY,\n",
    "                                     [Name] TEXT NOT NULL);\"\"\")\n",
    "    ls = []\n",
    "    with open('healthcare_dataset.csv','r') as file:\n",
    "            for line in file:\n",
    "                if not line.strip():\n",
    "                    continue\n",
    "                ls.append(line.strip())\n",
    "            name = []\n",
    "            for i in ls[1:]:\n",
    "                n = i.split(',')[6]\n",
    "                if n not in name:\n",
    "                    name.append(n)\n",
    "            name.sort()\n",
    "            \n",
    "            sql = '''INSERT INTO Doctor(Name) VALUES(?)'''\n",
    "            with normalized_conn:\n",
    "                for i in name:\n",
    "                    normalized_conn.execute(sql,(i,))\n",
    "            normalized_conn.close()"
   ]
  },
  {
   "cell_type": "code",
   "execution_count": 14,
   "id": "9cfff582",
   "metadata": {},
   "outputs": [],
   "source": [
    "doctor_table('healthcare_dataset.csv','healthcare.db')"
   ]
  },
  {
   "cell_type": "code",
   "execution_count": 15,
   "id": "848ddc37",
   "metadata": {},
   "outputs": [
    {
     "data": {
      "text/html": [
       "<div>\n",
       "<style scoped>\n",
       "    .dataframe tbody tr th:only-of-type {\n",
       "        vertical-align: middle;\n",
       "    }\n",
       "\n",
       "    .dataframe tbody tr th {\n",
       "        vertical-align: top;\n",
       "    }\n",
       "\n",
       "    .dataframe thead th {\n",
       "        text-align: right;\n",
       "    }\n",
       "</style>\n",
       "<table border=\"1\" class=\"dataframe\">\n",
       "  <thead>\n",
       "    <tr style=\"text-align: right;\">\n",
       "      <th></th>\n",
       "      <th>DoctorID</th>\n",
       "      <th>Name</th>\n",
       "    </tr>\n",
       "  </thead>\n",
       "  <tbody>\n",
       "    <tr>\n",
       "      <th>0</th>\n",
       "      <td>1</td>\n",
       "      <td>Aaron Anderson</td>\n",
       "    </tr>\n",
       "    <tr>\n",
       "      <th>1</th>\n",
       "      <td>2</td>\n",
       "      <td>Aaron Barrera</td>\n",
       "    </tr>\n",
       "    <tr>\n",
       "      <th>2</th>\n",
       "      <td>3</td>\n",
       "      <td>Aaron Boone</td>\n",
       "    </tr>\n",
       "    <tr>\n",
       "      <th>3</th>\n",
       "      <td>4</td>\n",
       "      <td>Aaron Brewer</td>\n",
       "    </tr>\n",
       "    <tr>\n",
       "      <th>4</th>\n",
       "      <td>5</td>\n",
       "      <td>Aaron Brown</td>\n",
       "    </tr>\n",
       "    <tr>\n",
       "      <th>...</th>\n",
       "      <td>...</td>\n",
       "      <td>...</td>\n",
       "    </tr>\n",
       "    <tr>\n",
       "      <th>9411</th>\n",
       "      <td>9412</td>\n",
       "      <td>Zachary Walsh</td>\n",
       "    </tr>\n",
       "    <tr>\n",
       "      <th>9412</th>\n",
       "      <td>9413</td>\n",
       "      <td>Zachary Wong</td>\n",
       "    </tr>\n",
       "    <tr>\n",
       "      <th>9413</th>\n",
       "      <td>9414</td>\n",
       "      <td>Zoe Cunningham</td>\n",
       "    </tr>\n",
       "    <tr>\n",
       "      <th>9414</th>\n",
       "      <td>9415</td>\n",
       "      <td>Zoe Garza</td>\n",
       "    </tr>\n",
       "    <tr>\n",
       "      <th>9415</th>\n",
       "      <td>9416</td>\n",
       "      <td>Zoe Jenkins</td>\n",
       "    </tr>\n",
       "  </tbody>\n",
       "</table>\n",
       "<p>9416 rows × 2 columns</p>\n",
       "</div>"
      ],
      "text/plain": [
       "      DoctorID            Name\n",
       "0            1  Aaron Anderson\n",
       "1            2   Aaron Barrera\n",
       "2            3     Aaron Boone\n",
       "3            4    Aaron Brewer\n",
       "4            5     Aaron Brown\n",
       "...        ...             ...\n",
       "9411      9412   Zachary Walsh\n",
       "9412      9413    Zachary Wong\n",
       "9413      9414  Zoe Cunningham\n",
       "9414      9415       Zoe Garza\n",
       "9415      9416     Zoe Jenkins\n",
       "\n",
       "[9416 rows x 2 columns]"
      ]
     },
     "metadata": {},
     "output_type": "display_data"
    }
   ],
   "source": [
    "conn = sqlite3.connect(\"healthcare.db\")\n",
    "df = pd.read_sql_query(\"\"\"SELECT * FROM Doctor\"\"\", conn)\n",
    "display(df)"
   ]
  },
  {
   "cell_type": "markdown",
   "id": "9a4b903f",
   "metadata": {},
   "source": [
    "# Create Hospital Table"
   ]
  },
  {
   "cell_type": "code",
   "execution_count": 16,
   "id": "200b735e",
   "metadata": {},
   "outputs": [],
   "source": [
    "def hospital_table(data_filename, normalized_database_filename):\n",
    "    \n",
    "    normalized_conn = create_connection(normalized_database_filename)\n",
    "    create_table(normalized_conn,\"\"\"CREATE TABLE IF NOT Exists [Hospital]([HospitalID] INTEGER NOT NULL PRIMARY KEY,\n",
    "                                     [Name] TEXT NOT NULL);\"\"\")\n",
    "    ls = []\n",
    "    with open('healthcare_dataset.csv','r') as file:\n",
    "            for line in file:\n",
    "                if not line.strip():\n",
    "                    continue\n",
    "                ls.append(line.strip())\n",
    "            hospital = []\n",
    "            for i in ls[1:]:\n",
    "                ele = i.split(',')\n",
    "                if len(ele) == 15:\n",
    "                    h = ele[7]\n",
    "                    if h not in hospital:\n",
    "                        hospital.append(h)\n",
    "                else:\n",
    "                    h = ele[7].strip('\"') + ',' + ele[8].strip('\"')\n",
    "                    if h not in hospital:\n",
    "                        hospital.append(h)\n",
    "            hospital.sort()\n",
    "            \n",
    "            sql = '''INSERT INTO Hospital(Name) VALUES(?)'''\n",
    "            with normalized_conn:\n",
    "                for i in hospital:\n",
    "                    normalized_conn.execute(sql,(i,))\n",
    "            normalized_conn.close()"
   ]
  },
  {
   "cell_type": "code",
   "execution_count": 17,
   "id": "019e4b1d",
   "metadata": {},
   "outputs": [],
   "source": [
    "hospital_table('healthcare_dataset.csv','healthcare.db')"
   ]
  },
  {
   "cell_type": "code",
   "execution_count": 18,
   "id": "0c38b3ee",
   "metadata": {},
   "outputs": [
    {
     "data": {
      "text/html": [
       "<div>\n",
       "<style scoped>\n",
       "    .dataframe tbody tr th:only-of-type {\n",
       "        vertical-align: middle;\n",
       "    }\n",
       "\n",
       "    .dataframe tbody tr th {\n",
       "        vertical-align: top;\n",
       "    }\n",
       "\n",
       "    .dataframe thead th {\n",
       "        text-align: right;\n",
       "    }\n",
       "</style>\n",
       "<table border=\"1\" class=\"dataframe\">\n",
       "  <thead>\n",
       "    <tr style=\"text-align: right;\">\n",
       "      <th></th>\n",
       "      <th>HospitalID</th>\n",
       "      <th>Name</th>\n",
       "    </tr>\n",
       "  </thead>\n",
       "  <tbody>\n",
       "    <tr>\n",
       "      <th>0</th>\n",
       "      <td>1</td>\n",
       "      <td>Abbott Inc</td>\n",
       "    </tr>\n",
       "    <tr>\n",
       "      <th>1</th>\n",
       "      <td>2</td>\n",
       "      <td>Abbott LLC</td>\n",
       "    </tr>\n",
       "    <tr>\n",
       "      <th>2</th>\n",
       "      <td>3</td>\n",
       "      <td>Abbott PLC</td>\n",
       "    </tr>\n",
       "    <tr>\n",
       "      <th>3</th>\n",
       "      <td>4</td>\n",
       "      <td>Abbott, Curry and Moore</td>\n",
       "    </tr>\n",
       "    <tr>\n",
       "      <th>4</th>\n",
       "      <td>5</td>\n",
       "      <td>Abbott-Jordan</td>\n",
       "    </tr>\n",
       "    <tr>\n",
       "      <th>...</th>\n",
       "      <td>...</td>\n",
       "      <td>...</td>\n",
       "    </tr>\n",
       "    <tr>\n",
       "      <th>8634</th>\n",
       "      <td>8635</td>\n",
       "      <td>Zimmerman, Salinas and Hill</td>\n",
       "    </tr>\n",
       "    <tr>\n",
       "      <th>8635</th>\n",
       "      <td>8636</td>\n",
       "      <td>Zuniga Ltd</td>\n",
       "    </tr>\n",
       "    <tr>\n",
       "      <th>8636</th>\n",
       "      <td>8637</td>\n",
       "      <td>Zuniga, Taylor and Scott</td>\n",
       "    </tr>\n",
       "    <tr>\n",
       "      <th>8637</th>\n",
       "      <td>8638</td>\n",
       "      <td>Zuniga-Chandler</td>\n",
       "    </tr>\n",
       "    <tr>\n",
       "      <th>8638</th>\n",
       "      <td>8639</td>\n",
       "      <td>Zuniga-Johnson</td>\n",
       "    </tr>\n",
       "  </tbody>\n",
       "</table>\n",
       "<p>8639 rows × 2 columns</p>\n",
       "</div>"
      ],
      "text/plain": [
       "      HospitalID                         Name\n",
       "0              1                   Abbott Inc\n",
       "1              2                   Abbott LLC\n",
       "2              3                   Abbott PLC\n",
       "3              4      Abbott, Curry and Moore\n",
       "4              5                Abbott-Jordan\n",
       "...          ...                          ...\n",
       "8634        8635  Zimmerman, Salinas and Hill\n",
       "8635        8636                   Zuniga Ltd\n",
       "8636        8637     Zuniga, Taylor and Scott\n",
       "8637        8638              Zuniga-Chandler\n",
       "8638        8639               Zuniga-Johnson\n",
       "\n",
       "[8639 rows x 2 columns]"
      ]
     },
     "metadata": {},
     "output_type": "display_data"
    }
   ],
   "source": [
    "conn = sqlite3.connect(\"healthcare.db\")\n",
    "df = pd.read_sql_query(\"\"\"SELECT * FROM Hospital\"\"\", conn)\n",
    "display(df)"
   ]
  },
  {
   "cell_type": "markdown",
   "id": "6be888c5",
   "metadata": {},
   "source": [
    "# Create Insurance Table"
   ]
  },
  {
   "cell_type": "code",
   "execution_count": 19,
   "id": "b3212ce1",
   "metadata": {},
   "outputs": [],
   "source": [
    "def insurance_table(data_filename, normalized_database_filename):\n",
    "    \n",
    "    normalized_conn = create_connection(normalized_database_filename)\n",
    "    create_table(normalized_conn,\"\"\"CREATE TABLE IF NOT Exists [InsuranceProvider]([InsuranceID] INTEGER NOT NULL PRIMARY KEY,\n",
    "                                     [Name] TEXT NOT NULL);\"\"\")\n",
    "    ls = []\n",
    "    with open('healthcare_dataset.csv','r') as file:\n",
    "            for line in file:\n",
    "                if not line.strip():\n",
    "                    continue\n",
    "                ls.append(line.strip())\n",
    "            ins_prov = []\n",
    "            for i in ls[1:]:\n",
    "                ele = i.split(',')\n",
    "                if len(ele) == 15:\n",
    "                    ins = ele[8]\n",
    "                    if ins not in ins_prov:\n",
    "                        ins_prov.append(ins)\n",
    "                else:\n",
    "                    ins = ele[9]\n",
    "                    if ins not in ins_prov:\n",
    "                        ins_prov.append(ins)\n",
    "            ins_prov.sort()\n",
    "            \n",
    "            sql = '''INSERT INTO InsuranceProvider(Name) VALUES(?)'''\n",
    "            with normalized_conn:\n",
    "                for i in ins_prov:\n",
    "                    normalized_conn.execute(sql,(i,))\n",
    "            normalized_conn.close()"
   ]
  },
  {
   "cell_type": "code",
   "execution_count": 20,
   "id": "d1af1666",
   "metadata": {},
   "outputs": [],
   "source": [
    "insurance_table('healthcare_dataset.csv','healthcare.db')"
   ]
  },
  {
   "cell_type": "code",
   "execution_count": 21,
   "id": "3310a224",
   "metadata": {},
   "outputs": [
    {
     "data": {
      "text/html": [
       "<div>\n",
       "<style scoped>\n",
       "    .dataframe tbody tr th:only-of-type {\n",
       "        vertical-align: middle;\n",
       "    }\n",
       "\n",
       "    .dataframe tbody tr th {\n",
       "        vertical-align: top;\n",
       "    }\n",
       "\n",
       "    .dataframe thead th {\n",
       "        text-align: right;\n",
       "    }\n",
       "</style>\n",
       "<table border=\"1\" class=\"dataframe\">\n",
       "  <thead>\n",
       "    <tr style=\"text-align: right;\">\n",
       "      <th></th>\n",
       "      <th>InsuranceID</th>\n",
       "      <th>Name</th>\n",
       "    </tr>\n",
       "  </thead>\n",
       "  <tbody>\n",
       "    <tr>\n",
       "      <th>0</th>\n",
       "      <td>1</td>\n",
       "      <td>Aetna</td>\n",
       "    </tr>\n",
       "    <tr>\n",
       "      <th>1</th>\n",
       "      <td>2</td>\n",
       "      <td>Blue Cross</td>\n",
       "    </tr>\n",
       "    <tr>\n",
       "      <th>2</th>\n",
       "      <td>3</td>\n",
       "      <td>Cigna</td>\n",
       "    </tr>\n",
       "    <tr>\n",
       "      <th>3</th>\n",
       "      <td>4</td>\n",
       "      <td>Medicare</td>\n",
       "    </tr>\n",
       "    <tr>\n",
       "      <th>4</th>\n",
       "      <td>5</td>\n",
       "      <td>UnitedHealthcare</td>\n",
       "    </tr>\n",
       "  </tbody>\n",
       "</table>\n",
       "</div>"
      ],
      "text/plain": [
       "   InsuranceID              Name\n",
       "0            1             Aetna\n",
       "1            2        Blue Cross\n",
       "2            3             Cigna\n",
       "3            4          Medicare\n",
       "4            5  UnitedHealthcare"
      ]
     },
     "metadata": {},
     "output_type": "display_data"
    }
   ],
   "source": [
    "conn = sqlite3.connect(\"healthcare.db\")\n",
    "df = pd.read_sql_query(\"\"\"SELECT * FROM InsuranceProvider\"\"\", conn)\n",
    "display(df)"
   ]
  },
  {
   "cell_type": "markdown",
   "id": "3dbecca6",
   "metadata": {},
   "source": [
    "Create dictionaries for patient, doctor, hospital and insurance table for foreign key lookup"
   ]
  },
  {
   "cell_type": "code",
   "execution_count": 22,
   "id": "5c0d8000",
   "metadata": {},
   "outputs": [],
   "source": [
    "def patient_patiendid(normalized_database_filename):\n",
    "    normalized_conn = create_connection(normalized_database_filename)\n",
    "    sql_statement = '''SELECT PatientID, Name FROM Patient'''\n",
    "    p = execute_sql_statement(sql_statement,normalized_conn)\n",
    "    p_dic = {}\n",
    "    for i in p:\n",
    "        pid,pn = i\n",
    "        p_dic[pn] = pid\n",
    "    return p_dic"
   ]
  },
  {
   "cell_type": "code",
   "execution_count": 23,
   "id": "5bd0f8b6",
   "metadata": {},
   "outputs": [],
   "source": [
    "def doctor_doctorid(normalized_database_filename):\n",
    "    normalized_conn = create_connection(normalized_database_filename)\n",
    "    sql_statement = '''SELECT DoctorID, Name FROM Doctor'''\n",
    "    d = execute_sql_statement(sql_statement,normalized_conn)\n",
    "    d_dic = {}\n",
    "    for i in d:\n",
    "        did,dn = i\n",
    "        d_dic[dn] = did\n",
    "    return d_dic"
   ]
  },
  {
   "cell_type": "code",
   "execution_count": 24,
   "id": "8b7311cb",
   "metadata": {},
   "outputs": [],
   "source": [
    "def hospital_hospitalid(normalized_database_filename):\n",
    "    normalized_conn = create_connection(normalized_database_filename)\n",
    "    sql_statement = '''SELECT HospitalID, Name FROM Hospital'''\n",
    "    h = execute_sql_statement(sql_statement,normalized_conn)\n",
    "    h_dic = {}\n",
    "    for i in h:\n",
    "        hid,hn = i\n",
    "        h_dic[hn] = hid\n",
    "    return h_dic"
   ]
  },
  {
   "cell_type": "code",
   "execution_count": 25,
   "id": "da012370",
   "metadata": {},
   "outputs": [],
   "source": [
    "def insurance_insuranceid(normalized_database_filename):\n",
    "    normalized_conn = create_connection(normalized_database_filename)\n",
    "    sql_statement = '''SELECT InsuranceID, Name FROM InsuranceProvider'''\n",
    "    ins = execute_sql_statement(sql_statement,normalized_conn)\n",
    "    i_dic = {}\n",
    "    for i in ins:\n",
    "        iid,inp = i\n",
    "        i_dic[inp] = iid\n",
    "    return i_dic"
   ]
  },
  {
   "cell_type": "markdown",
   "id": "7227491f",
   "metadata": {},
   "source": [
    "# Create Disease Table"
   ]
  },
  {
   "cell_type": "code",
   "execution_count": 26,
   "id": "f5474cbd",
   "metadata": {},
   "outputs": [],
   "source": [
    "def disease_table(data_filename, normalized_database_filename):\n",
    "    normalized_conn = create_connection(normalized_database_filename)\n",
    "    create_table(normalized_conn,\"\"\"CREATE TABLE IF NOT Exists [Disease]([DiseaseID] INTEGER NOT NULL PRIMARY KEY,\n",
    "                                     [DiseaseName] TEXT NOT NULL);\"\"\")\n",
    "    ls = []\n",
    "    with open(data_filename,'r') as file:\n",
    "        for line in file:\n",
    "            if not line.strip():\n",
    "                continue\n",
    "            ls.append(line.strip())\n",
    "        dis = []\n",
    "        for i in ls[1:]:\n",
    "            d = i.split(',')[4]\n",
    "            if d not in dis:\n",
    "                dis.append(d)\n",
    "        dis.sort()\n",
    "        sql = '''INSERT INTO Disease(DiseaseName) VALUES(?)'''\n",
    "        with normalized_conn:\n",
    "            for i in dis:\n",
    "                normalized_conn.execute(sql,(i,))\n",
    "        normalized_conn.close()"
   ]
  },
  {
   "cell_type": "code",
   "execution_count": 27,
   "id": "cc607b0c",
   "metadata": {},
   "outputs": [],
   "source": [
    "disease_table('healthcare_dataset.csv','healthcare.db')"
   ]
  },
  {
   "cell_type": "code",
   "execution_count": 28,
   "id": "e170dc9e",
   "metadata": {},
   "outputs": [
    {
     "data": {
      "text/html": [
       "<div>\n",
       "<style scoped>\n",
       "    .dataframe tbody tr th:only-of-type {\n",
       "        vertical-align: middle;\n",
       "    }\n",
       "\n",
       "    .dataframe tbody tr th {\n",
       "        vertical-align: top;\n",
       "    }\n",
       "\n",
       "    .dataframe thead th {\n",
       "        text-align: right;\n",
       "    }\n",
       "</style>\n",
       "<table border=\"1\" class=\"dataframe\">\n",
       "  <thead>\n",
       "    <tr style=\"text-align: right;\">\n",
       "      <th></th>\n",
       "      <th>DiseaseID</th>\n",
       "      <th>DiseaseName</th>\n",
       "    </tr>\n",
       "  </thead>\n",
       "  <tbody>\n",
       "    <tr>\n",
       "      <th>0</th>\n",
       "      <td>1</td>\n",
       "      <td>Arthritis</td>\n",
       "    </tr>\n",
       "    <tr>\n",
       "      <th>1</th>\n",
       "      <td>2</td>\n",
       "      <td>Asthma</td>\n",
       "    </tr>\n",
       "    <tr>\n",
       "      <th>2</th>\n",
       "      <td>3</td>\n",
       "      <td>Cancer</td>\n",
       "    </tr>\n",
       "    <tr>\n",
       "      <th>3</th>\n",
       "      <td>4</td>\n",
       "      <td>Diabetes</td>\n",
       "    </tr>\n",
       "    <tr>\n",
       "      <th>4</th>\n",
       "      <td>5</td>\n",
       "      <td>Hypertension</td>\n",
       "    </tr>\n",
       "    <tr>\n",
       "      <th>5</th>\n",
       "      <td>6</td>\n",
       "      <td>Obesity</td>\n",
       "    </tr>\n",
       "  </tbody>\n",
       "</table>\n",
       "</div>"
      ],
      "text/plain": [
       "   DiseaseID   DiseaseName\n",
       "0          1     Arthritis\n",
       "1          2        Asthma\n",
       "2          3        Cancer\n",
       "3          4      Diabetes\n",
       "4          5  Hypertension\n",
       "5          6       Obesity"
      ]
     },
     "metadata": {},
     "output_type": "display_data"
    }
   ],
   "source": [
    "conn = sqlite3.connect(\"healthcare.db\")\n",
    "df = pd.read_sql_query(\"\"\"SELECT * FROM Disease\"\"\", conn)\n",
    "display(df)"
   ]
  },
  {
   "cell_type": "markdown",
   "id": "b12723dd",
   "metadata": {},
   "source": [
    "# Create Medication Table"
   ]
  },
  {
   "cell_type": "code",
   "execution_count": 29,
   "id": "661ca993",
   "metadata": {},
   "outputs": [],
   "source": [
    "def medication_table(data_filename, normalized_database_filename):\n",
    "    normalized_conn = create_connection(normalized_database_filename)\n",
    "    create_table(normalized_conn,\"\"\"CREATE TABLE IF NOT Exists [Medication]([MedicationID] INTEGER NOT NULL PRIMARY KEY,\n",
    "                                     [MedicationName] TEXT NOT NULL);\"\"\")\n",
    "    ls = []\n",
    "    with open(data_filename,'r') as file:\n",
    "        for line in file:\n",
    "            if not line.strip():\n",
    "                continue\n",
    "            ls.append(line.strip())\n",
    "        med = []\n",
    "        for i in ls[1:]:\n",
    "            ele = i.split(',')\n",
    "            if len(ele) == 15:\n",
    "                m = ele[13]\n",
    "                if m not in med:\n",
    "                    med.append(m)\n",
    "            else:\n",
    "                m = ele[14]\n",
    "                if m not in med:\n",
    "                    med.append(m)\n",
    "        med.sort()\n",
    "        sql = '''INSERT INTO Medication(MedicationName) VALUES(?)'''\n",
    "        with normalized_conn:\n",
    "            for i in med:\n",
    "                normalized_conn.execute(sql,(i,))\n",
    "        normalized_conn.close()"
   ]
  },
  {
   "cell_type": "code",
   "execution_count": 30,
   "id": "2c00d7dd",
   "metadata": {},
   "outputs": [
    {
     "data": {
      "text/html": [
       "<div>\n",
       "<style scoped>\n",
       "    .dataframe tbody tr th:only-of-type {\n",
       "        vertical-align: middle;\n",
       "    }\n",
       "\n",
       "    .dataframe tbody tr th {\n",
       "        vertical-align: top;\n",
       "    }\n",
       "\n",
       "    .dataframe thead th {\n",
       "        text-align: right;\n",
       "    }\n",
       "</style>\n",
       "<table border=\"1\" class=\"dataframe\">\n",
       "  <thead>\n",
       "    <tr style=\"text-align: right;\">\n",
       "      <th></th>\n",
       "      <th>MedicationID</th>\n",
       "      <th>MedicationName</th>\n",
       "    </tr>\n",
       "  </thead>\n",
       "  <tbody>\n",
       "    <tr>\n",
       "      <th>0</th>\n",
       "      <td>1</td>\n",
       "      <td>Aspirin</td>\n",
       "    </tr>\n",
       "    <tr>\n",
       "      <th>1</th>\n",
       "      <td>2</td>\n",
       "      <td>Ibuprofen</td>\n",
       "    </tr>\n",
       "    <tr>\n",
       "      <th>2</th>\n",
       "      <td>3</td>\n",
       "      <td>Lipitor</td>\n",
       "    </tr>\n",
       "    <tr>\n",
       "      <th>3</th>\n",
       "      <td>4</td>\n",
       "      <td>Paracetamol</td>\n",
       "    </tr>\n",
       "    <tr>\n",
       "      <th>4</th>\n",
       "      <td>5</td>\n",
       "      <td>Penicillin</td>\n",
       "    </tr>\n",
       "  </tbody>\n",
       "</table>\n",
       "</div>"
      ],
      "text/plain": [
       "   MedicationID MedicationName\n",
       "0             1        Aspirin\n",
       "1             2      Ibuprofen\n",
       "2             3        Lipitor\n",
       "3             4    Paracetamol\n",
       "4             5     Penicillin"
      ]
     },
     "metadata": {},
     "output_type": "display_data"
    }
   ],
   "source": [
    "medication_table('healthcare_dataset.csv','healthcare.db')\n",
    "conn = sqlite3.connect(\"healthcare.db\")\n",
    "df = pd.read_sql_query(\"\"\"SELECT * FROM Medication\"\"\", conn)\n",
    "display(df)"
   ]
  },
  {
   "cell_type": "markdown",
   "id": "1b3c62e2",
   "metadata": {},
   "source": [
    "# Create Admission Type Table"
   ]
  },
  {
   "cell_type": "code",
   "execution_count": 31,
   "id": "c4555f0f",
   "metadata": {},
   "outputs": [],
   "source": [
    "def adtype_table(data_filename, normalized_database_filename):\n",
    "    normalized_conn = create_connection(normalized_database_filename)\n",
    "    create_table(normalized_conn,\"\"\"CREATE TABLE IF NOT Exists [AdmissionType]([AdTypeID] INTEGER NOT NULL PRIMARY KEY,\n",
    "                                     [Type] TEXT NOT NULL);\"\"\")\n",
    "    ls = []\n",
    "    with open(data_filename,'r') as file:\n",
    "        for line in file:\n",
    "            if not line.strip():\n",
    "                continue\n",
    "            ls.append(line.strip())\n",
    "        adt = []\n",
    "        for i in ls[1:]:\n",
    "            ele = i.split(',')\n",
    "            if len(ele) == 15:\n",
    "                a = ele[11]\n",
    "                if a not in adt:\n",
    "                    adt.append(a)\n",
    "            else:\n",
    "                a = ele[12]\n",
    "                if a not in adt:\n",
    "                    adt.append(a)\n",
    "        adt.sort()\n",
    "        sql = '''INSERT INTO AdmissionType(Type) VALUES(?)'''\n",
    "        with normalized_conn:\n",
    "            for i in adt:\n",
    "                normalized_conn.execute(sql,(i,))\n",
    "        normalized_conn.close()"
   ]
  },
  {
   "cell_type": "code",
   "execution_count": 32,
   "id": "12bfb4b9",
   "metadata": {},
   "outputs": [
    {
     "data": {
      "text/html": [
       "<div>\n",
       "<style scoped>\n",
       "    .dataframe tbody tr th:only-of-type {\n",
       "        vertical-align: middle;\n",
       "    }\n",
       "\n",
       "    .dataframe tbody tr th {\n",
       "        vertical-align: top;\n",
       "    }\n",
       "\n",
       "    .dataframe thead th {\n",
       "        text-align: right;\n",
       "    }\n",
       "</style>\n",
       "<table border=\"1\" class=\"dataframe\">\n",
       "  <thead>\n",
       "    <tr style=\"text-align: right;\">\n",
       "      <th></th>\n",
       "      <th>AdTypeID</th>\n",
       "      <th>Type</th>\n",
       "    </tr>\n",
       "  </thead>\n",
       "  <tbody>\n",
       "    <tr>\n",
       "      <th>0</th>\n",
       "      <td>1</td>\n",
       "      <td>Elective</td>\n",
       "    </tr>\n",
       "    <tr>\n",
       "      <th>1</th>\n",
       "      <td>2</td>\n",
       "      <td>Emergency</td>\n",
       "    </tr>\n",
       "    <tr>\n",
       "      <th>2</th>\n",
       "      <td>3</td>\n",
       "      <td>Urgent</td>\n",
       "    </tr>\n",
       "  </tbody>\n",
       "</table>\n",
       "</div>"
      ],
      "text/plain": [
       "   AdTypeID       Type\n",
       "0         1   Elective\n",
       "1         2  Emergency\n",
       "2         3     Urgent"
      ]
     },
     "metadata": {},
     "output_type": "display_data"
    }
   ],
   "source": [
    "adtype_table('healthcare_dataset.csv','healthcare.db')\n",
    "conn = sqlite3.connect(\"healthcare.db\")\n",
    "df = pd.read_sql_query(\"\"\"SELECT * FROM AdmissionType\"\"\", conn)\n",
    "display(df)"
   ]
  },
  {
   "cell_type": "markdown",
   "id": "68e04f1c",
   "metadata": {},
   "source": [
    "# Create Result Table"
   ]
  },
  {
   "cell_type": "code",
   "execution_count": 33,
   "id": "f065263c",
   "metadata": {},
   "outputs": [],
   "source": [
    "def result_table(data_filename, normalized_database_filename):\n",
    "    normalized_conn = create_connection(normalized_database_filename)\n",
    "    create_table(normalized_conn,\"\"\"CREATE TABLE IF NOT Exists [Result]([ResultID] INTEGER NOT NULL PRIMARY KEY,\n",
    "                                     [ResultType] TEXT NOT NULL);\"\"\")\n",
    "    ls = []\n",
    "    with open(data_filename,'r') as file:\n",
    "        for line in file:\n",
    "            if not line.strip():\n",
    "                continue\n",
    "            ls.append(line.strip())\n",
    "        res = []\n",
    "        for i in ls[1:]:\n",
    "            ele = i.split(',')\n",
    "            if len(ele) == 15:\n",
    "                r = ele[14]\n",
    "                if r not in res:\n",
    "                    res.append(r)\n",
    "            else:\n",
    "                r = ele[15]\n",
    "                if r not in res:\n",
    "                    res.append(r)\n",
    "        res.sort()\n",
    "        sql = '''INSERT INTO Result(ResultType) VALUES(?)'''\n",
    "        with normalized_conn:\n",
    "            for i in res:\n",
    "                normalized_conn.execute(sql,(i,))\n",
    "        normalized_conn.close()"
   ]
  },
  {
   "cell_type": "code",
   "execution_count": 34,
   "id": "603b9050",
   "metadata": {},
   "outputs": [
    {
     "data": {
      "text/html": [
       "<div>\n",
       "<style scoped>\n",
       "    .dataframe tbody tr th:only-of-type {\n",
       "        vertical-align: middle;\n",
       "    }\n",
       "\n",
       "    .dataframe tbody tr th {\n",
       "        vertical-align: top;\n",
       "    }\n",
       "\n",
       "    .dataframe thead th {\n",
       "        text-align: right;\n",
       "    }\n",
       "</style>\n",
       "<table border=\"1\" class=\"dataframe\">\n",
       "  <thead>\n",
       "    <tr style=\"text-align: right;\">\n",
       "      <th></th>\n",
       "      <th>ResultID</th>\n",
       "      <th>ResultType</th>\n",
       "    </tr>\n",
       "  </thead>\n",
       "  <tbody>\n",
       "    <tr>\n",
       "      <th>0</th>\n",
       "      <td>1</td>\n",
       "      <td>Abnormal</td>\n",
       "    </tr>\n",
       "    <tr>\n",
       "      <th>1</th>\n",
       "      <td>2</td>\n",
       "      <td>Inconclusive</td>\n",
       "    </tr>\n",
       "    <tr>\n",
       "      <th>2</th>\n",
       "      <td>3</td>\n",
       "      <td>Normal</td>\n",
       "    </tr>\n",
       "  </tbody>\n",
       "</table>\n",
       "</div>"
      ],
      "text/plain": [
       "   ResultID    ResultType\n",
       "0         1      Abnormal\n",
       "1         2  Inconclusive\n",
       "2         3        Normal"
      ]
     },
     "metadata": {},
     "output_type": "display_data"
    }
   ],
   "source": [
    "result_table('healthcare_dataset.csv','healthcare.db')\n",
    "conn = sqlite3.connect(\"healthcare.db\")\n",
    "df = pd.read_sql_query(\"\"\"SELECT * FROM Result\"\"\", conn)\n",
    "display(df)"
   ]
  },
  {
   "cell_type": "markdown",
   "id": "3aea847a",
   "metadata": {},
   "source": [
    "Create dictionaries for disease, medication, admission type and result table for foreign key lookup"
   ]
  },
  {
   "cell_type": "code",
   "execution_count": 35,
   "id": "08e91d58",
   "metadata": {},
   "outputs": [],
   "source": [
    "def disease_diseaseid(normalized_database_filename):\n",
    "    normalized_conn = create_connection(normalized_database_filename)\n",
    "    sql_statement = '''SELECT DiseaseID, DiseaseName FROM Disease'''\n",
    "    diss = execute_sql_statement(sql_statement,normalized_conn)\n",
    "    di_dic = {}\n",
    "    for i in diss:\n",
    "        did,d = i\n",
    "        di_dic[d] = did\n",
    "    return di_dic"
   ]
  },
  {
   "cell_type": "code",
   "execution_count": 36,
   "id": "46b5b455",
   "metadata": {},
   "outputs": [
    {
     "data": {
      "text/plain": [
       "{'Arthritis': 1,\n",
       " 'Asthma': 2,\n",
       " 'Cancer': 3,\n",
       " 'Diabetes': 4,\n",
       " 'Hypertension': 5,\n",
       " 'Obesity': 6}"
      ]
     },
     "execution_count": 36,
     "metadata": {},
     "output_type": "execute_result"
    }
   ],
   "source": [
    "disease_diseaseid('healthcare.db')"
   ]
  },
  {
   "cell_type": "code",
   "execution_count": 37,
   "id": "38d91c2f",
   "metadata": {},
   "outputs": [],
   "source": [
    "def medication_medicationid(normalized_database_filename):\n",
    "    normalized_conn = create_connection(normalized_database_filename)\n",
    "    sql_statement = '''SELECT MedicationID, MedicationName FROM Medication'''\n",
    "    med = execute_sql_statement(sql_statement,normalized_conn)\n",
    "    med_dic = {}\n",
    "    for i in med:\n",
    "        mid,m = i\n",
    "        med_dic[m] = mid\n",
    "    return med_dic"
   ]
  },
  {
   "cell_type": "code",
   "execution_count": 38,
   "id": "79316e29",
   "metadata": {},
   "outputs": [
    {
     "data": {
      "text/plain": [
       "{'Aspirin': 1, 'Ibuprofen': 2, 'Lipitor': 3, 'Paracetamol': 4, 'Penicillin': 5}"
      ]
     },
     "execution_count": 38,
     "metadata": {},
     "output_type": "execute_result"
    }
   ],
   "source": [
    "medication_medicationid('healthcare.db')"
   ]
  },
  {
   "cell_type": "code",
   "execution_count": 39,
   "id": "90cd351e",
   "metadata": {},
   "outputs": [],
   "source": [
    "def adid_adtypeid(normalized_database_filename):\n",
    "    normalized_conn = create_connection(normalized_database_filename)\n",
    "    sql_statement = '''SELECT AdTypeID, Type FROM AdmissionType'''\n",
    "    ad = execute_sql_statement(sql_statement,normalized_conn)\n",
    "    ad_dic = {}\n",
    "    for i in ad:\n",
    "        aid,a = i\n",
    "        ad_dic[a] = aid\n",
    "    return ad_dic"
   ]
  },
  {
   "cell_type": "code",
   "execution_count": 40,
   "id": "96199bb1",
   "metadata": {},
   "outputs": [
    {
     "data": {
      "text/plain": [
       "{'Elective': 1, 'Emergency': 2, 'Urgent': 3}"
      ]
     },
     "execution_count": 40,
     "metadata": {},
     "output_type": "execute_result"
    }
   ],
   "source": [
    "adid_adtypeid('healthcare.db')"
   ]
  },
  {
   "cell_type": "code",
   "execution_count": 41,
   "id": "42daf672",
   "metadata": {},
   "outputs": [],
   "source": [
    "def res_resid(normalized_database_filename):\n",
    "    normalized_conn = create_connection(normalized_database_filename)\n",
    "    sql_statement = '''SELECT ResultID, ResultType FROM Result'''\n",
    "    res = execute_sql_statement(sql_statement,normalized_conn)\n",
    "    res_dic = {}\n",
    "    for i in res:\n",
    "        rid,r = i\n",
    "        res_dic[r] = rid\n",
    "    return res_dic"
   ]
  },
  {
   "cell_type": "code",
   "execution_count": 42,
   "id": "2e421fb7",
   "metadata": {},
   "outputs": [
    {
     "data": {
      "text/plain": [
       "{'Abnormal': 1, 'Inconclusive': 2, 'Normal': 3}"
      ]
     },
     "execution_count": 42,
     "metadata": {},
     "output_type": "execute_result"
    }
   ],
   "source": [
    "res_resid('healthcare.db')"
   ]
  },
  {
   "cell_type": "markdown",
   "id": "fbeda65e",
   "metadata": {},
   "source": [
    "# Creating Admission Table"
   ]
  },
  {
   "cell_type": "markdown",
   "id": "f5649ad5",
   "metadata": {},
   "source": [
    "# The admission table references the 8 other tables of the database through Primary Key - Foreign Key relationship. Below are the relationship between the tables:\n",
    "Admission - Patient --> One to One Relationship\n",
    "Admission - Doctor --> One to Many Relationship\n",
    "Admission - Hospital --> One to Many Relationship\n",
    "Admission - Insurance --> One to Many Relationship\n",
    "Admission - Disease --> One to Many Relationship\n",
    "Admission - Medication --> One to Many Relationship\n",
    "Admission - AdType --> One to Many Relationship\n",
    "Admission - Result --> One to Many Relationship"
   ]
  },
  {
   "cell_type": "code",
   "execution_count": 43,
   "id": "8fd4e26f",
   "metadata": {},
   "outputs": [],
   "source": [
    "from datetime import datetime\n",
    "def admission_table(data_filename, normalized_database_filename):\n",
    "    normalized_conn = create_connection(normalized_database_filename)\n",
    "    create_table(normalized_conn,\"\"\"CREATE TABLE IF NOT Exists [Admission]([ID] INTEGER NOT NULL PRIMARY KEY,\n",
    "                                     [PatientID] INTEGER NOT NULL,\n",
    "                                     [DoctorID] INTEGER NOT NULL,\n",
    "                                     [HospitalID]INTEGER NOT NULL,\n",
    "                                     [InsuranceID] INTEGER NOT NULL,\n",
    "                                     [DiseaseID] INTEGER NOT NULL,\n",
    "                                     [MedicationID] INTEGER NOT NULL,\n",
    "                                     [AdTypeID] INETEGR NOT NULL,\n",
    "                                     [ResultID] INTEGER NOT NULL,\n",
    "                                     [DateofAdmission] INTEGER NOT NULL,\n",
    "                                     [BillingAmount] REAL NOT NULL,\n",
    "                                     [RoomNumber] INTEGER NOT NULL,\n",
    "                                     [DischargeDate] INTEGER NOT NULL,\n",
    "                                     FOREIGN KEY (PatientID) REFERENCES Patient(PatientID)\n",
    "                                     FOREIGN KEY (DoctorID) REFERENCES Doctor(DoctorID)\n",
    "                                     FOREIGN KEY (HospitalID) REFERENCES Hospital(HospitalID)\n",
    "                                     FOREIGN KEY (InsuranceID) REFERENCES InsuranceProvider(InsuranceID)\n",
    "                                     FOREIGN KEY (DiseaseID) REFERENCES Disease(DiseaseID)\n",
    "                                     FOREIGN KEY (MedicationID) REFERENCES Medication(MedicationID)\n",
    "                                     FOREIGN KEY (AdTypeID) REFERENCES AdmissionType(AdTypeID)\n",
    "                                     FOREIGN KEY (ResultID) REFERENCES Result(ResultID));\"\"\")\n",
    "    \n",
    "    dic1 = patient_patiendid(normalized_database_filename)\n",
    "    dic2 = doctor_doctorid(normalized_database_filename)\n",
    "    dic3 = hospital_hospitalid(normalized_database_filename)\n",
    "    dic4 = insurance_insuranceid(normalized_database_filename)\n",
    "    dic5 = disease_diseaseid(normalized_database_filename)\n",
    "    dic6 = medication_medicationid(normalized_database_filename)\n",
    "    dic7 = adid_adtypeid(normalized_database_filename)\n",
    "    dic8 = res_resid(normalized_database_filename)\n",
    "    \n",
    "    ls = []\n",
    "    with open(data_filename,'r') as file:\n",
    "        for line in file:\n",
    "            if not line.strip():\n",
    "                continue\n",
    "            ls.append(line.strip())\n",
    "        pat = []\n",
    "        doc = []\n",
    "        hos = []\n",
    "        insp = []\n",
    "        dis = []\n",
    "        medi = []\n",
    "        adty = []\n",
    "        rest = []\n",
    "        da = []\n",
    "        ba = []\n",
    "        rn = []\n",
    "        dd = []\n",
    "        \n",
    "        for i in ls[1:]:\n",
    "            ele = i.split(',')\n",
    "            \n",
    "            if len(ele) == 15:\n",
    "                pat.append(dic1[ele[0]])\n",
    "                doc.append(dic2[ele[6]])\n",
    "                dis.append(dic5[ele[4]])\n",
    "                da.append(datetime.strptime(ele[5], '%Y-%m-%d').strftime('%Y-%m-%d'))\n",
    "                hos.append(dic3[ele[7]])\n",
    "                insp.append(dic4[ele[8]])\n",
    "                ba.append(float(ele[9]))\n",
    "                rn.append(int(ele[10]))\n",
    "                adty.append(dic7[ele[11]])\n",
    "                dd.append(datetime.strptime(ele[12], '%Y-%m-%d').strftime('%Y-%m-%d'))\n",
    "                medi.append(dic6[ele[13]])\n",
    "                rest.append(dic8[ele[14]])\n",
    "            else:\n",
    "                pat.append(dic1[ele[0]])\n",
    "                doc.append(dic2[ele[6]])\n",
    "                dis.append(dic5[ele[4]])\n",
    "                da.append(datetime.strptime(ele[5], '%Y-%m-%d').strftime('%Y-%m-%d'))\n",
    "                hos.append(dic3[ele[7].strip('\"') + ',' + ele[8].strip('\"')])\n",
    "                insp.append(dic4[ele[9]])\n",
    "                ba.append(float(ele[10]))\n",
    "                rn.append(int(ele[11]))\n",
    "                adty.append(dic7[ele[12]])\n",
    "                dd.append(datetime.strptime(ele[13], '%Y-%m-%d').strftime('%Y-%m-%d'))\n",
    "                medi.append(dic6[ele[14]])\n",
    "                rest.append(dic8[ele[15]])\n",
    "                \n",
    "        admission = list(zip(pat,doc,hos,insp,dis,medi,adty,rest,da,ba,rn,dd))\n",
    "        sql = '''INSERT INTO Admission(PatientID,DoctorID,HospitalID,InsuranceID,DiseaseID,MedicationID,\n",
    "        AdTypeID,ResultID,DateofAdmission,BillingAmount,RoomNumber,DischargeDate) VALUES(?,?,?,?,?,?,?,?,?,?,?,?)'''\n",
    "                          \n",
    "        with normalized_conn:\n",
    "            normalized_conn.executemany(sql,admission)\n",
    "\n",
    "        normalized_conn.close()"
   ]
  },
  {
   "cell_type": "code",
   "execution_count": 44,
   "id": "2e2f1b1c",
   "metadata": {},
   "outputs": [
    {
     "data": {
      "text/html": [
       "<div>\n",
       "<style scoped>\n",
       "    .dataframe tbody tr th:only-of-type {\n",
       "        vertical-align: middle;\n",
       "    }\n",
       "\n",
       "    .dataframe tbody tr th {\n",
       "        vertical-align: top;\n",
       "    }\n",
       "\n",
       "    .dataframe thead th {\n",
       "        text-align: right;\n",
       "    }\n",
       "</style>\n",
       "<table border=\"1\" class=\"dataframe\">\n",
       "  <thead>\n",
       "    <tr style=\"text-align: right;\">\n",
       "      <th></th>\n",
       "      <th>ID</th>\n",
       "      <th>PatientID</th>\n",
       "      <th>DoctorID</th>\n",
       "      <th>HospitalID</th>\n",
       "      <th>InsuranceID</th>\n",
       "      <th>DiseaseID</th>\n",
       "      <th>MedicationID</th>\n",
       "      <th>AdTypeID</th>\n",
       "      <th>ResultID</th>\n",
       "      <th>DateofAdmission</th>\n",
       "      <th>BillingAmount</th>\n",
       "      <th>RoomNumber</th>\n",
       "      <th>DischargeDate</th>\n",
       "    </tr>\n",
       "  </thead>\n",
       "  <tbody>\n",
       "    <tr>\n",
       "      <th>0</th>\n",
       "      <td>1</td>\n",
       "      <td>8838</td>\n",
       "      <td>7168</td>\n",
       "      <td>7961</td>\n",
       "      <td>4</td>\n",
       "      <td>4</td>\n",
       "      <td>1</td>\n",
       "      <td>1</td>\n",
       "      <td>2</td>\n",
       "      <td>2022-11-17</td>\n",
       "      <td>37490.983364</td>\n",
       "      <td>146</td>\n",
       "      <td>2022-12-01</td>\n",
       "    </tr>\n",
       "    <tr>\n",
       "      <th>1</th>\n",
       "      <td>2</td>\n",
       "      <td>7737</td>\n",
       "      <td>2598</td>\n",
       "      <td>979</td>\n",
       "      <td>5</td>\n",
       "      <td>2</td>\n",
       "      <td>3</td>\n",
       "      <td>2</td>\n",
       "      <td>3</td>\n",
       "      <td>2023-06-01</td>\n",
       "      <td>47304.064845</td>\n",
       "      <td>404</td>\n",
       "      <td>2023-06-15</td>\n",
       "    </tr>\n",
       "    <tr>\n",
       "      <th>2</th>\n",
       "      <td>3</td>\n",
       "      <td>1509</td>\n",
       "      <td>7181</td>\n",
       "      <td>7997</td>\n",
       "      <td>4</td>\n",
       "      <td>6</td>\n",
       "      <td>3</td>\n",
       "      <td>2</td>\n",
       "      <td>3</td>\n",
       "      <td>2019-01-09</td>\n",
       "      <td>36874.896997</td>\n",
       "      <td>292</td>\n",
       "      <td>2019-02-08</td>\n",
       "    </tr>\n",
       "    <tr>\n",
       "      <th>3</th>\n",
       "      <td>4</td>\n",
       "      <td>722</td>\n",
       "      <td>1170</td>\n",
       "      <td>2483</td>\n",
       "      <td>4</td>\n",
       "      <td>2</td>\n",
       "      <td>5</td>\n",
       "      <td>3</td>\n",
       "      <td>1</td>\n",
       "      <td>2020-05-02</td>\n",
       "      <td>23303.322092</td>\n",
       "      <td>480</td>\n",
       "      <td>2020-05-03</td>\n",
       "    </tr>\n",
       "    <tr>\n",
       "      <th>4</th>\n",
       "      <td>5</td>\n",
       "      <td>6783</td>\n",
       "      <td>2776</td>\n",
       "      <td>3909</td>\n",
       "      <td>5</td>\n",
       "      <td>1</td>\n",
       "      <td>4</td>\n",
       "      <td>3</td>\n",
       "      <td>3</td>\n",
       "      <td>2021-07-09</td>\n",
       "      <td>18086.344184</td>\n",
       "      <td>477</td>\n",
       "      <td>2021-08-02</td>\n",
       "    </tr>\n",
       "    <tr>\n",
       "      <th>...</th>\n",
       "      <td>...</td>\n",
       "      <td>...</td>\n",
       "      <td>...</td>\n",
       "      <td>...</td>\n",
       "      <td>...</td>\n",
       "      <td>...</td>\n",
       "      <td>...</td>\n",
       "      <td>...</td>\n",
       "      <td>...</td>\n",
       "      <td>...</td>\n",
       "      <td>...</td>\n",
       "      <td>...</td>\n",
       "      <td>...</td>\n",
       "    </tr>\n",
       "    <tr>\n",
       "      <th>9995</th>\n",
       "      <td>9996</td>\n",
       "      <td>3583</td>\n",
       "      <td>7927</td>\n",
       "      <td>8475</td>\n",
       "      <td>5</td>\n",
       "      <td>6</td>\n",
       "      <td>2</td>\n",
       "      <td>1</td>\n",
       "      <td>1</td>\n",
       "      <td>2022-07-29</td>\n",
       "      <td>39606.840083</td>\n",
       "      <td>110</td>\n",
       "      <td>2022-08-02</td>\n",
       "    </tr>\n",
       "    <tr>\n",
       "      <th>9996</th>\n",
       "      <td>9997</td>\n",
       "      <td>8308</td>\n",
       "      <td>1857</td>\n",
       "      <td>5395</td>\n",
       "      <td>2</td>\n",
       "      <td>1</td>\n",
       "      <td>2</td>\n",
       "      <td>2</td>\n",
       "      <td>3</td>\n",
       "      <td>2022-01-06</td>\n",
       "      <td>5995.717488</td>\n",
       "      <td>244</td>\n",
       "      <td>2022-01-29</td>\n",
       "    </tr>\n",
       "    <tr>\n",
       "      <th>9997</th>\n",
       "      <td>9998</td>\n",
       "      <td>1793</td>\n",
       "      <td>7656</td>\n",
       "      <td>4215</td>\n",
       "      <td>2</td>\n",
       "      <td>1</td>\n",
       "      <td>2</td>\n",
       "      <td>1</td>\n",
       "      <td>3</td>\n",
       "      <td>2022-07-01</td>\n",
       "      <td>49559.202905</td>\n",
       "      <td>312</td>\n",
       "      <td>2022-07-15</td>\n",
       "    </tr>\n",
       "    <tr>\n",
       "      <th>9998</th>\n",
       "      <td>9999</td>\n",
       "      <td>274</td>\n",
       "      <td>3771</td>\n",
       "      <td>8421</td>\n",
       "      <td>5</td>\n",
       "      <td>1</td>\n",
       "      <td>5</td>\n",
       "      <td>3</td>\n",
       "      <td>3</td>\n",
       "      <td>2020-02-06</td>\n",
       "      <td>25236.344761</td>\n",
       "      <td>420</td>\n",
       "      <td>2020-02-26</td>\n",
       "    </tr>\n",
       "    <tr>\n",
       "      <th>9999</th>\n",
       "      <td>10000</td>\n",
       "      <td>2951</td>\n",
       "      <td>8649</td>\n",
       "      <td>7689</td>\n",
       "      <td>1</td>\n",
       "      <td>1</td>\n",
       "      <td>5</td>\n",
       "      <td>2</td>\n",
       "      <td>1</td>\n",
       "      <td>2023-03-22</td>\n",
       "      <td>37223.965865</td>\n",
       "      <td>290</td>\n",
       "      <td>2023-04-15</td>\n",
       "    </tr>\n",
       "  </tbody>\n",
       "</table>\n",
       "<p>10000 rows × 13 columns</p>\n",
       "</div>"
      ],
      "text/plain": [
       "         ID  PatientID  DoctorID  HospitalID  InsuranceID  DiseaseID  \\\n",
       "0         1       8838      7168        7961            4          4   \n",
       "1         2       7737      2598         979            5          2   \n",
       "2         3       1509      7181        7997            4          6   \n",
       "3         4        722      1170        2483            4          2   \n",
       "4         5       6783      2776        3909            5          1   \n",
       "...     ...        ...       ...         ...          ...        ...   \n",
       "9995   9996       3583      7927        8475            5          6   \n",
       "9996   9997       8308      1857        5395            2          1   \n",
       "9997   9998       1793      7656        4215            2          1   \n",
       "9998   9999        274      3771        8421            5          1   \n",
       "9999  10000       2951      8649        7689            1          1   \n",
       "\n",
       "      MedicationID  AdTypeID  ResultID DateofAdmission  BillingAmount  \\\n",
       "0                1         1         2      2022-11-17   37490.983364   \n",
       "1                3         2         3      2023-06-01   47304.064845   \n",
       "2                3         2         3      2019-01-09   36874.896997   \n",
       "3                5         3         1      2020-05-02   23303.322092   \n",
       "4                4         3         3      2021-07-09   18086.344184   \n",
       "...            ...       ...       ...             ...            ...   \n",
       "9995             2         1         1      2022-07-29   39606.840083   \n",
       "9996             2         2         3      2022-01-06    5995.717488   \n",
       "9997             2         1         3      2022-07-01   49559.202905   \n",
       "9998             5         3         3      2020-02-06   25236.344761   \n",
       "9999             5         2         1      2023-03-22   37223.965865   \n",
       "\n",
       "      RoomNumber DischargeDate  \n",
       "0            146    2022-12-01  \n",
       "1            404    2023-06-15  \n",
       "2            292    2019-02-08  \n",
       "3            480    2020-05-03  \n",
       "4            477    2021-08-02  \n",
       "...          ...           ...  \n",
       "9995         110    2022-08-02  \n",
       "9996         244    2022-01-29  \n",
       "9997         312    2022-07-15  \n",
       "9998         420    2020-02-26  \n",
       "9999         290    2023-04-15  \n",
       "\n",
       "[10000 rows x 13 columns]"
      ]
     },
     "metadata": {},
     "output_type": "display_data"
    }
   ],
   "source": [
    "admission_table('healthcare_dataset.csv','healthcare.db')\n",
    "conn = sqlite3.connect(\"healthcare.db\")\n",
    "df = pd.read_sql_query(\"\"\"SELECT * FROM Admission\"\"\", conn)\n",
    "display(df)"
   ]
  },
  {
   "cell_type": "markdown",
   "id": "374d3f84",
   "metadata": {},
   "source": [
    "# Advanced Data Analysis and Machine Learning"
   ]
  },
  {
   "cell_type": "markdown",
   "id": "fff70bea",
   "metadata": {},
   "source": [
    "In order to gain insights and understand trends in the data, SQL queries with JOIN clause have been used to fetch the required data followed by the application of Machine Learning to perform classification on the dataset"
   ]
  },
  {
   "cell_type": "markdown",
   "id": "1e6cffae",
   "metadata": {},
   "source": [
    "# SQL Query to fetch the Top 10 Hospitals based on Number of Patients"
   ]
  },
  {
   "cell_type": "code",
   "execution_count": 45,
   "id": "80e0a462",
   "metadata": {},
   "outputs": [
    {
     "data": {
      "text/html": [
       "<div>\n",
       "<style scoped>\n",
       "    .dataframe tbody tr th:only-of-type {\n",
       "        vertical-align: middle;\n",
       "    }\n",
       "\n",
       "    .dataframe tbody tr th {\n",
       "        vertical-align: top;\n",
       "    }\n",
       "\n",
       "    .dataframe thead th {\n",
       "        text-align: right;\n",
       "    }\n",
       "</style>\n",
       "<table border=\"1\" class=\"dataframe\">\n",
       "  <thead>\n",
       "    <tr style=\"text-align: right;\">\n",
       "      <th></th>\n",
       "      <th>Name</th>\n",
       "      <th>Total_Patients</th>\n",
       "    </tr>\n",
       "  </thead>\n",
       "  <tbody>\n",
       "    <tr>\n",
       "      <th>0</th>\n",
       "      <td>Smith PLC</td>\n",
       "      <td>19</td>\n",
       "    </tr>\n",
       "    <tr>\n",
       "      <th>1</th>\n",
       "      <td>Smith and Sons</td>\n",
       "      <td>17</td>\n",
       "    </tr>\n",
       "    <tr>\n",
       "      <th>2</th>\n",
       "      <td>Smith Ltd</td>\n",
       "      <td>14</td>\n",
       "    </tr>\n",
       "    <tr>\n",
       "      <th>3</th>\n",
       "      <td>Smith Inc</td>\n",
       "      <td>14</td>\n",
       "    </tr>\n",
       "    <tr>\n",
       "      <th>4</th>\n",
       "      <td>Johnson PLC</td>\n",
       "      <td>13</td>\n",
       "    </tr>\n",
       "    <tr>\n",
       "      <th>5</th>\n",
       "      <td>Williams LLC</td>\n",
       "      <td>12</td>\n",
       "    </tr>\n",
       "    <tr>\n",
       "      <th>6</th>\n",
       "      <td>Williams Inc</td>\n",
       "      <td>12</td>\n",
       "    </tr>\n",
       "    <tr>\n",
       "      <th>7</th>\n",
       "      <td>Smith Group</td>\n",
       "      <td>12</td>\n",
       "    </tr>\n",
       "    <tr>\n",
       "      <th>8</th>\n",
       "      <td>Thomas Group</td>\n",
       "      <td>11</td>\n",
       "    </tr>\n",
       "    <tr>\n",
       "      <th>9</th>\n",
       "      <td>Johnson Ltd</td>\n",
       "      <td>11</td>\n",
       "    </tr>\n",
       "  </tbody>\n",
       "</table>\n",
       "</div>"
      ],
      "text/plain": [
       "             Name  Total_Patients\n",
       "0       Smith PLC              19\n",
       "1  Smith and Sons              17\n",
       "2       Smith Ltd              14\n",
       "3       Smith Inc              14\n",
       "4     Johnson PLC              13\n",
       "5    Williams LLC              12\n",
       "6    Williams Inc              12\n",
       "7     Smith Group              12\n",
       "8    Thomas Group              11\n",
       "9     Johnson Ltd              11"
      ]
     },
     "metadata": {},
     "output_type": "display_data"
    }
   ],
   "source": [
    "conn = sqlite3.connect(\"healthcare.db\")\n",
    "top_hos = pd.read_sql_query(\"SELECT h.Name, COUNT(a.PatientID) as Total_Patients FROM Admission a JOIN Hospital h on h.HospitalID = a.HospitalID GROUP BY h.Name ORDER BY Total_Patients DESC LIMIT 10\",conn)\n",
    "display(top_hos)"
   ]
  },
  {
   "cell_type": "code",
   "execution_count": 389,
   "id": "9893bfb4",
   "metadata": {},
   "outputs": [
    {
     "data": {
      "image/png": "[encoded data removed]",
      "text/plain": [
       "<Figure size 600x400 with 1 Axes>"
      ]
     },
     "metadata": {},
     "output_type": "display_data"
    }
   ],
   "source": [
    "import matplotlib.pyplot as plt\n",
    "import seaborn as sns\n",
    "plt.figure(figsize=(6,4))\n",
    "plt.bar(x = 'Name', height = 'Total_Patients', data = top_hos)\n",
    "plt.xlabel('Hospital')\n",
    "plt.ylabel('Number of Patients')\n",
    "plt.title ('Hospital vs Number of Patients')\n",
    "plt.xticks(rotation=45)  # Rotate x-axis labels by 45 degrees\n",
    "plt.show()"
   ]
  },
  {
   "cell_type": "markdown",
   "id": "9e45c8f1",
   "metadata": {},
   "source": [
    "# SQL Query to fetch Number of Patients Per Disease"
   ]
  },
  {
   "cell_type": "code",
   "execution_count": 47,
   "id": "a6e164d4",
   "metadata": {},
   "outputs": [
    {
     "data": {
      "text/html": [
       "<div>\n",
       "<style scoped>\n",
       "    .dataframe tbody tr th:only-of-type {\n",
       "        vertical-align: middle;\n",
       "    }\n",
       "\n",
       "    .dataframe tbody tr th {\n",
       "        vertical-align: top;\n",
       "    }\n",
       "\n",
       "    .dataframe thead th {\n",
       "        text-align: right;\n",
       "    }\n",
       "</style>\n",
       "<table border=\"1\" class=\"dataframe\">\n",
       "  <thead>\n",
       "    <tr style=\"text-align: right;\">\n",
       "      <th></th>\n",
       "      <th>DiseaseName</th>\n",
       "      <th>Total_Patients</th>\n",
       "    </tr>\n",
       "  </thead>\n",
       "  <tbody>\n",
       "    <tr>\n",
       "      <th>0</th>\n",
       "      <td>Asthma</td>\n",
       "      <td>1708</td>\n",
       "    </tr>\n",
       "    <tr>\n",
       "      <th>1</th>\n",
       "      <td>Cancer</td>\n",
       "      <td>1703</td>\n",
       "    </tr>\n",
       "    <tr>\n",
       "      <th>2</th>\n",
       "      <td>Hypertension</td>\n",
       "      <td>1688</td>\n",
       "    </tr>\n",
       "    <tr>\n",
       "      <th>3</th>\n",
       "      <td>Arthritis</td>\n",
       "      <td>1650</td>\n",
       "    </tr>\n",
       "    <tr>\n",
       "      <th>4</th>\n",
       "      <td>Obesity</td>\n",
       "      <td>1628</td>\n",
       "    </tr>\n",
       "    <tr>\n",
       "      <th>5</th>\n",
       "      <td>Diabetes</td>\n",
       "      <td>1623</td>\n",
       "    </tr>\n",
       "  </tbody>\n",
       "</table>\n",
       "</div>"
      ],
      "text/plain": [
       "    DiseaseName  Total_Patients\n",
       "0        Asthma            1708\n",
       "1        Cancer            1703\n",
       "2  Hypertension            1688\n",
       "3     Arthritis            1650\n",
       "4       Obesity            1628\n",
       "5      Diabetes            1623"
      ]
     },
     "metadata": {},
     "output_type": "display_data"
    }
   ],
   "source": [
    "conn = sqlite3.connect(\"healthcare.db\")\n",
    "top_dis = pd.read_sql_query(\"SELECT di.DiseaseName, COUNT(a.PatientID) as Total_Patients FROM Admission a JOIN Disease di on di.DiseaseID = a.DiseaseID GROUP BY di.DiseaseName ORDER BY Total_Patients DESC\",conn)\n",
    "display(top_dis)"
   ]
  },
  {
   "cell_type": "code",
   "execution_count": 390,
   "id": "d41bdbb8",
   "metadata": {},
   "outputs": [
    {
     "data": {
      "image/png": "[encoded data removed]",
      "text/plain": [
       "<Figure size 600x400 with 1 Axes>"
      ]
     },
     "metadata": {},
     "output_type": "display_data"
    }
   ],
   "source": [
    "plt.figure(figsize=(6,4))\n",
    "plt.bar(x = 'DiseaseName', height = 'Total_Patients', data = top_dis, color = 'orange')\n",
    "plt.xlabel('Disease')\n",
    "plt.ylabel('Number of Patients')\n",
    "plt.title('Disease vs Number of Patients')\n",
    "plt.xticks(rotation=45)  # Rotate x-axis labels by 45 degrees\n",
    "plt.show()"
   ]
  },
  {
   "cell_type": "markdown",
   "id": "1f525ea9",
   "metadata": {},
   "source": [
    "# SQL Query to fetch the Top 10 Most Expensive Hospitals"
   ]
  },
  {
   "cell_type": "code",
   "execution_count": 49,
   "id": "beedd099",
   "metadata": {},
   "outputs": [
    {
     "data": {
      "text/html": [
       "<div>\n",
       "<style scoped>\n",
       "    .dataframe tbody tr th:only-of-type {\n",
       "        vertical-align: middle;\n",
       "    }\n",
       "\n",
       "    .dataframe tbody tr th {\n",
       "        vertical-align: top;\n",
       "    }\n",
       "\n",
       "    .dataframe thead th {\n",
       "        text-align: right;\n",
       "    }\n",
       "</style>\n",
       "<table border=\"1\" class=\"dataframe\">\n",
       "  <thead>\n",
       "    <tr style=\"text-align: right;\">\n",
       "      <th></th>\n",
       "      <th>Name</th>\n",
       "      <th>Total_Amount</th>\n",
       "    </tr>\n",
       "  </thead>\n",
       "  <tbody>\n",
       "    <tr>\n",
       "      <th>0</th>\n",
       "      <td>Smith and Sons</td>\n",
       "      <td>477638.88</td>\n",
       "    </tr>\n",
       "    <tr>\n",
       "      <th>1</th>\n",
       "      <td>Smith PLC</td>\n",
       "      <td>432283.55</td>\n",
       "    </tr>\n",
       "    <tr>\n",
       "      <th>2</th>\n",
       "      <td>Smith Ltd</td>\n",
       "      <td>428163.07</td>\n",
       "    </tr>\n",
       "    <tr>\n",
       "      <th>3</th>\n",
       "      <td>Smith Inc</td>\n",
       "      <td>351463.89</td>\n",
       "    </tr>\n",
       "    <tr>\n",
       "      <th>4</th>\n",
       "      <td>Williams LLC</td>\n",
       "      <td>327522.47</td>\n",
       "    </tr>\n",
       "    <tr>\n",
       "      <th>5</th>\n",
       "      <td>Thomas Group</td>\n",
       "      <td>327045.37</td>\n",
       "    </tr>\n",
       "    <tr>\n",
       "      <th>6</th>\n",
       "      <td>Johnson Ltd</td>\n",
       "      <td>305971.19</td>\n",
       "    </tr>\n",
       "    <tr>\n",
       "      <th>7</th>\n",
       "      <td>Davis and Sons</td>\n",
       "      <td>293452.52</td>\n",
       "    </tr>\n",
       "    <tr>\n",
       "      <th>8</th>\n",
       "      <td>Jones Inc</td>\n",
       "      <td>290351.19</td>\n",
       "    </tr>\n",
       "    <tr>\n",
       "      <th>9</th>\n",
       "      <td>Brown LLC</td>\n",
       "      <td>284695.67</td>\n",
       "    </tr>\n",
       "  </tbody>\n",
       "</table>\n",
       "</div>"
      ],
      "text/plain": [
       "             Name  Total_Amount\n",
       "0  Smith and Sons     477638.88\n",
       "1       Smith PLC     432283.55\n",
       "2       Smith Ltd     428163.07\n",
       "3       Smith Inc     351463.89\n",
       "4    Williams LLC     327522.47\n",
       "5    Thomas Group     327045.37\n",
       "6     Johnson Ltd     305971.19\n",
       "7  Davis and Sons     293452.52\n",
       "8       Jones Inc     290351.19\n",
       "9       Brown LLC     284695.67"
      ]
     },
     "metadata": {},
     "output_type": "display_data"
    }
   ],
   "source": [
    "#most expensive hospital by average billing amounts\n",
    "conn = sqlite3.connect(\"healthcare.db\")\n",
    "exp_hos = pd.read_sql_query(\"SELECT h.Name, ROUND(SUM(a.BillingAmount),2) as Total_Amount FROM Admission a JOIN Hospital h on h.HospitalID = a.HospitalID GROUP BY h.Name ORDER BY Total_Amount DESC LIMIT 10\",conn)\n",
    "display(exp_hos)"
   ]
  },
  {
   "cell_type": "code",
   "execution_count": 391,
   "id": "65f7b3fd",
   "metadata": {},
   "outputs": [
    {
     "data": {
      "image/png": "[encoded data removed]",
      "text/plain": [
       "<Figure size 600x400 with 1 Axes>"
      ]
     },
     "metadata": {},
     "output_type": "display_data"
    }
   ],
   "source": [
    "plt.figure(figsize=(6,4))\n",
    "plt.bar(x = 'Name', height = 'Total_Amount', data = exp_hos, color = 'red')\n",
    "plt.xlabel('Hospital')\n",
    "plt.ylabel('Billing Amount')\n",
    "plt.title('Hospital vs Billing Amount')\n",
    "plt.xticks(rotation=45)  # Rotate x-axis labels by 45 degrees\n",
    "plt.show()"
   ]
  },
  {
   "cell_type": "markdown",
   "id": "bcb4b048",
   "metadata": {},
   "source": [
    "# SQL Query to fetch the Average Length of Stay in Hospital per Disease"
   ]
  },
  {
   "cell_type": "code",
   "execution_count": 51,
   "id": "31f12818",
   "metadata": {},
   "outputs": [
    {
     "data": {
      "text/html": [
       "<div>\n",
       "<style scoped>\n",
       "    .dataframe tbody tr th:only-of-type {\n",
       "        vertical-align: middle;\n",
       "    }\n",
       "\n",
       "    .dataframe tbody tr th {\n",
       "        vertical-align: top;\n",
       "    }\n",
       "\n",
       "    .dataframe thead th {\n",
       "        text-align: right;\n",
       "    }\n",
       "</style>\n",
       "<table border=\"1\" class=\"dataframe\">\n",
       "  <thead>\n",
       "    <tr style=\"text-align: right;\">\n",
       "      <th></th>\n",
       "      <th>DiseaseName</th>\n",
       "      <th>Length_Stay</th>\n",
       "    </tr>\n",
       "  </thead>\n",
       "  <tbody>\n",
       "    <tr>\n",
       "      <th>0</th>\n",
       "      <td>Arthritis</td>\n",
       "      <td>15.990303</td>\n",
       "    </tr>\n",
       "    <tr>\n",
       "      <th>1</th>\n",
       "      <td>Diabetes</td>\n",
       "      <td>15.574245</td>\n",
       "    </tr>\n",
       "    <tr>\n",
       "      <th>2</th>\n",
       "      <td>Asthma</td>\n",
       "      <td>15.481265</td>\n",
       "    </tr>\n",
       "    <tr>\n",
       "      <th>3</th>\n",
       "      <td>Cancer</td>\n",
       "      <td>15.479742</td>\n",
       "    </tr>\n",
       "    <tr>\n",
       "      <th>4</th>\n",
       "      <td>Hypertension</td>\n",
       "      <td>15.430095</td>\n",
       "    </tr>\n",
       "    <tr>\n",
       "      <th>5</th>\n",
       "      <td>Obesity</td>\n",
       "      <td>15.421990</td>\n",
       "    </tr>\n",
       "  </tbody>\n",
       "</table>\n",
       "</div>"
      ],
      "text/plain": [
       "    DiseaseName  Length_Stay\n",
       "0     Arthritis    15.990303\n",
       "1      Diabetes    15.574245\n",
       "2        Asthma    15.481265\n",
       "3        Cancer    15.479742\n",
       "4  Hypertension    15.430095\n",
       "5       Obesity    15.421990"
      ]
     },
     "metadata": {},
     "output_type": "display_data"
    }
   ],
   "source": [
    "conn = sqlite3.connect(\"healthcare.db\")\n",
    "df_dis = pd.read_sql_query(\"SELECT di.DiseaseName, AVG(JULIANDAY(a.DischargeDate) - JULIANDAY(a.DateofAdmission)) AS Length_Stay FROM Admission a JOIN Disease di on di.DiseaseID = a.DiseaseID GROUP BY di.DiseaseName ORDER BY Length_Stay DESC\",conn)\n",
    "display(df_dis)"
   ]
  },
  {
   "cell_type": "markdown",
   "id": "b2a4a102",
   "metadata": {},
   "source": [
    "# SQL Query to understand the distribution of different Admission Types"
   ]
  },
  {
   "cell_type": "code",
   "execution_count": 52,
   "id": "c489239d",
   "metadata": {},
   "outputs": [
    {
     "data": {
      "text/html": [
       "<div>\n",
       "<style scoped>\n",
       "    .dataframe tbody tr th:only-of-type {\n",
       "        vertical-align: middle;\n",
       "    }\n",
       "\n",
       "    .dataframe tbody tr th {\n",
       "        vertical-align: top;\n",
       "    }\n",
       "\n",
       "    .dataframe thead th {\n",
       "        text-align: right;\n",
       "    }\n",
       "</style>\n",
       "<table border=\"1\" class=\"dataframe\">\n",
       "  <thead>\n",
       "    <tr style=\"text-align: right;\">\n",
       "      <th></th>\n",
       "      <th>Admission_Type</th>\n",
       "      <th>Number</th>\n",
       "    </tr>\n",
       "  </thead>\n",
       "  <tbody>\n",
       "    <tr>\n",
       "      <th>0</th>\n",
       "      <td>Urgent</td>\n",
       "      <td>3391</td>\n",
       "    </tr>\n",
       "    <tr>\n",
       "      <th>1</th>\n",
       "      <td>Emergency</td>\n",
       "      <td>3367</td>\n",
       "    </tr>\n",
       "    <tr>\n",
       "      <th>2</th>\n",
       "      <td>Elective</td>\n",
       "      <td>3242</td>\n",
       "    </tr>\n",
       "  </tbody>\n",
       "</table>\n",
       "</div>"
      ],
      "text/plain": [
       "  Admission_Type  Number\n",
       "0         Urgent    3391\n",
       "1      Emergency    3367\n",
       "2       Elective    3242"
      ]
     },
     "metadata": {},
     "output_type": "display_data"
    }
   ],
   "source": [
    "conn = sqlite3.connect(\"healthcare.db\")\n",
    "dist = pd.read_sql_query(\"SELECT t.Type as Admission_Type, COUNT(*) as Number FROM Admission a JOIN AdmissionType t on t.AdTypeID = a.AdTypeID group by t.type ORDER BY Number DESC \",conn)\n",
    "display(dist)"
   ]
  },
  {
   "cell_type": "markdown",
   "id": "bd452fbd",
   "metadata": {},
   "source": [
    "# SQL Query to check the frequency of each medication used "
   ]
  },
  {
   "cell_type": "code",
   "execution_count": 53,
   "id": "55e68b51",
   "metadata": {},
   "outputs": [
    {
     "data": {
      "text/html": [
       "<div>\n",
       "<style scoped>\n",
       "    .dataframe tbody tr th:only-of-type {\n",
       "        vertical-align: middle;\n",
       "    }\n",
       "\n",
       "    .dataframe tbody tr th {\n",
       "        vertical-align: top;\n",
       "    }\n",
       "\n",
       "    .dataframe thead th {\n",
       "        text-align: right;\n",
       "    }\n",
       "</style>\n",
       "<table border=\"1\" class=\"dataframe\">\n",
       "  <thead>\n",
       "    <tr style=\"text-align: right;\">\n",
       "      <th></th>\n",
       "      <th>MedicationName</th>\n",
       "      <th>Number</th>\n",
       "    </tr>\n",
       "  </thead>\n",
       "  <tbody>\n",
       "    <tr>\n",
       "      <th>0</th>\n",
       "      <td>Penicillin</td>\n",
       "      <td>2079</td>\n",
       "    </tr>\n",
       "    <tr>\n",
       "      <th>1</th>\n",
       "      <td>Lipitor</td>\n",
       "      <td>2015</td>\n",
       "    </tr>\n",
       "    <tr>\n",
       "      <th>2</th>\n",
       "      <td>Ibuprofen</td>\n",
       "      <td>1976</td>\n",
       "    </tr>\n",
       "    <tr>\n",
       "      <th>3</th>\n",
       "      <td>Aspirin</td>\n",
       "      <td>1968</td>\n",
       "    </tr>\n",
       "    <tr>\n",
       "      <th>4</th>\n",
       "      <td>Paracetamol</td>\n",
       "      <td>1962</td>\n",
       "    </tr>\n",
       "  </tbody>\n",
       "</table>\n",
       "</div>"
      ],
      "text/plain": [
       "  MedicationName  Number\n",
       "0     Penicillin    2079\n",
       "1        Lipitor    2015\n",
       "2      Ibuprofen    1976\n",
       "3        Aspirin    1968\n",
       "4    Paracetamol    1962"
      ]
     },
     "metadata": {},
     "output_type": "display_data"
    }
   ],
   "source": [
    "conn = sqlite3.connect(\"healthcare.db\")\n",
    "dism = pd.read_sql_query(\"SELECT m.MedicationName, COUNT(*) as Number FROM Admission a JOIN Medication m on m.MedicationID = a.MedicationID group by m.MedicationName ORDER BY Number DESC \",conn)\n",
    "display(dism)"
   ]
  },
  {
   "cell_type": "markdown",
   "id": "255fb0e7",
   "metadata": {},
   "source": [
    "# SQL Query to check the frequency of the test results"
   ]
  },
  {
   "cell_type": "code",
   "execution_count": 54,
   "id": "724112aa",
   "metadata": {},
   "outputs": [
    {
     "data": {
      "text/html": [
       "<div>\n",
       "<style scoped>\n",
       "    .dataframe tbody tr th:only-of-type {\n",
       "        vertical-align: middle;\n",
       "    }\n",
       "\n",
       "    .dataframe tbody tr th {\n",
       "        vertical-align: top;\n",
       "    }\n",
       "\n",
       "    .dataframe thead th {\n",
       "        text-align: right;\n",
       "    }\n",
       "</style>\n",
       "<table border=\"1\" class=\"dataframe\">\n",
       "  <thead>\n",
       "    <tr style=\"text-align: right;\">\n",
       "      <th></th>\n",
       "      <th>ResultType</th>\n",
       "      <th>Number</th>\n",
       "    </tr>\n",
       "  </thead>\n",
       "  <tbody>\n",
       "    <tr>\n",
       "      <th>0</th>\n",
       "      <td>Abnormal</td>\n",
       "      <td>3456</td>\n",
       "    </tr>\n",
       "    <tr>\n",
       "      <th>1</th>\n",
       "      <td>Inconclusive</td>\n",
       "      <td>3277</td>\n",
       "    </tr>\n",
       "    <tr>\n",
       "      <th>2</th>\n",
       "      <td>Normal</td>\n",
       "      <td>3267</td>\n",
       "    </tr>\n",
       "  </tbody>\n",
       "</table>\n",
       "</div>"
      ],
      "text/plain": [
       "     ResultType  Number\n",
       "0      Abnormal    3456\n",
       "1  Inconclusive    3277\n",
       "2        Normal    3267"
      ]
     },
     "metadata": {},
     "output_type": "display_data"
    }
   ],
   "source": [
    "conn = sqlite3.connect(\"healthcare.db\")\n",
    "disr = pd.read_sql_query(\"SELECT r.ResultType, COUNT(*) as Number FROM Admission a JOIN Result r on r.ResultID = a.ResultID group by r.ResultType ORDER BY Number DESC \",conn)\n",
    "display(disr)"
   ]
  },
  {
   "cell_type": "markdown",
   "id": "cf5e3e11",
   "metadata": {},
   "source": [
    "# SQL Query to find Frequency of Patients per Insurance Company"
   ]
  },
  {
   "cell_type": "code",
   "execution_count": 396,
   "id": "4583de7f",
   "metadata": {},
   "outputs": [
    {
     "data": {
      "text/html": [
       "<div>\n",
       "<style scoped>\n",
       "    .dataframe tbody tr th:only-of-type {\n",
       "        vertical-align: middle;\n",
       "    }\n",
       "\n",
       "    .dataframe tbody tr th {\n",
       "        vertical-align: top;\n",
       "    }\n",
       "\n",
       "    .dataframe thead th {\n",
       "        text-align: right;\n",
       "    }\n",
       "</style>\n",
       "<table border=\"1\" class=\"dataframe\">\n",
       "  <thead>\n",
       "    <tr style=\"text-align: right;\">\n",
       "      <th></th>\n",
       "      <th>Name</th>\n",
       "      <th>Number_Patients</th>\n",
       "    </tr>\n",
       "  </thead>\n",
       "  <tbody>\n",
       "    <tr>\n",
       "      <th>0</th>\n",
       "      <td>Cigna</td>\n",
       "      <td>2040</td>\n",
       "    </tr>\n",
       "    <tr>\n",
       "      <th>1</th>\n",
       "      <td>Blue Cross</td>\n",
       "      <td>2032</td>\n",
       "    </tr>\n",
       "    <tr>\n",
       "      <th>2</th>\n",
       "      <td>Aetna</td>\n",
       "      <td>2025</td>\n",
       "    </tr>\n",
       "    <tr>\n",
       "      <th>3</th>\n",
       "      <td>UnitedHealthcare</td>\n",
       "      <td>1978</td>\n",
       "    </tr>\n",
       "    <tr>\n",
       "      <th>4</th>\n",
       "      <td>Medicare</td>\n",
       "      <td>1925</td>\n",
       "    </tr>\n",
       "  </tbody>\n",
       "</table>\n",
       "</div>"
      ],
      "text/plain": [
       "               Name  Number_Patients\n",
       "0             Cigna             2040\n",
       "1        Blue Cross             2032\n",
       "2             Aetna             2025\n",
       "3  UnitedHealthcare             1978\n",
       "4          Medicare             1925"
      ]
     },
     "metadata": {},
     "output_type": "display_data"
    }
   ],
   "source": [
    "conn = sqlite3.connect(\"healthcare.db\")\n",
    "dism = pd.read_sql_query(\"SELECT i.Name, COUNT(*) as Number_Patients FROM Admission a JOIN InsuranceProvider i on i.InsuranceID = a.InsuranceID group by i.Name ORDER BY Number_Patients DESC \",conn)\n",
    "display(dism)"
   ]
  },
  {
   "cell_type": "markdown",
   "id": "6a855b94",
   "metadata": {},
   "source": [
    "# SQL Query to Calculate AVG Billing Amount per Insurance Company"
   ]
  },
  {
   "cell_type": "code",
   "execution_count": 56,
   "id": "09d795bd",
   "metadata": {},
   "outputs": [
    {
     "data": {
      "text/html": [
       "<div>\n",
       "<style scoped>\n",
       "    .dataframe tbody tr th:only-of-type {\n",
       "        vertical-align: middle;\n",
       "    }\n",
       "\n",
       "    .dataframe tbody tr th {\n",
       "        vertical-align: top;\n",
       "    }\n",
       "\n",
       "    .dataframe thead th {\n",
       "        text-align: right;\n",
       "    }\n",
       "</style>\n",
       "<table border=\"1\" class=\"dataframe\">\n",
       "  <thead>\n",
       "    <tr style=\"text-align: right;\">\n",
       "      <th></th>\n",
       "      <th>Name</th>\n",
       "      <th>Average</th>\n",
       "    </tr>\n",
       "  </thead>\n",
       "  <tbody>\n",
       "    <tr>\n",
       "      <th>0</th>\n",
       "      <td>Aetna</td>\n",
       "      <td>25837.923338</td>\n",
       "    </tr>\n",
       "    <tr>\n",
       "      <th>1</th>\n",
       "      <td>Cigna</td>\n",
       "      <td>25656.946859</td>\n",
       "    </tr>\n",
       "    <tr>\n",
       "      <th>2</th>\n",
       "      <td>Blue Cross</td>\n",
       "      <td>25652.489617</td>\n",
       "    </tr>\n",
       "    <tr>\n",
       "      <th>3</th>\n",
       "      <td>UnitedHealthcare</td>\n",
       "      <td>25404.685388</td>\n",
       "    </tr>\n",
       "    <tr>\n",
       "      <th>4</th>\n",
       "      <td>Medicare</td>\n",
       "      <td>25002.480429</td>\n",
       "    </tr>\n",
       "  </tbody>\n",
       "</table>\n",
       "</div>"
      ],
      "text/plain": [
       "               Name       Average\n",
       "0             Aetna  25837.923338\n",
       "1             Cigna  25656.946859\n",
       "2        Blue Cross  25652.489617\n",
       "3  UnitedHealthcare  25404.685388\n",
       "4          Medicare  25002.480429"
      ]
     },
     "metadata": {},
     "output_type": "display_data"
    }
   ],
   "source": [
    "conn = sqlite3.connect(\"healthcare.db\")\n",
    "disi = pd.read_sql_query(\"SELECT i.Name, AVG(a.BillingAmount) as Average FROM Admission a JOIN InsuranceProvider i on i.InsuranceID = a.InsuranceID group by i.Name ORDER BY Average DESC \",conn)\n",
    "display(disi)"
   ]
  },
  {
   "cell_type": "code",
   "execution_count": 57,
   "id": "76a2addb",
   "metadata": {},
   "outputs": [
    {
     "data": {
      "image/png": "[encoded data removed]",
      "text/plain": [
       "<Figure size 600x400 with 1 Axes>"
      ]
     },
     "metadata": {},
     "output_type": "display_data"
    }
   ],
   "source": [
    "plt.figure(figsize=(6,4))\n",
    "plt.bar(x = 'Name', height = 'Average', data = disi, color = 'green')\n",
    "plt.xlabel('Insurance Provider')\n",
    "plt.ylabel('Average Amount')\n",
    "plt.xticks(rotation=45)  # Rotate x-axis labels by 45 degrees\n",
    "plt.show()"
   ]
  },
  {
   "cell_type": "markdown",
   "id": "d6052e44",
   "metadata": {},
   "source": [
    "# AVG Billing Amount per Disease"
   ]
  },
  {
   "cell_type": "code",
   "execution_count": 58,
   "id": "f7665f13",
   "metadata": {},
   "outputs": [
    {
     "data": {
      "text/html": [
       "<div>\n",
       "<style scoped>\n",
       "    .dataframe tbody tr th:only-of-type {\n",
       "        vertical-align: middle;\n",
       "    }\n",
       "\n",
       "    .dataframe tbody tr th {\n",
       "        vertical-align: top;\n",
       "    }\n",
       "\n",
       "    .dataframe thead th {\n",
       "        text-align: right;\n",
       "    }\n",
       "</style>\n",
       "<table border=\"1\" class=\"dataframe\">\n",
       "  <thead>\n",
       "    <tr style=\"text-align: right;\">\n",
       "      <th></th>\n",
       "      <th>DiseaseName</th>\n",
       "      <th>Average</th>\n",
       "    </tr>\n",
       "  </thead>\n",
       "  <tbody>\n",
       "    <tr>\n",
       "      <th>0</th>\n",
       "      <td>Diabetes</td>\n",
       "      <td>26060.12</td>\n",
       "    </tr>\n",
       "    <tr>\n",
       "      <th>1</th>\n",
       "      <td>Obesity</td>\n",
       "      <td>25720.84</td>\n",
       "    </tr>\n",
       "    <tr>\n",
       "      <th>2</th>\n",
       "      <td>Cancer</td>\n",
       "      <td>25539.10</td>\n",
       "    </tr>\n",
       "    <tr>\n",
       "      <th>3</th>\n",
       "      <td>Asthma</td>\n",
       "      <td>25416.87</td>\n",
       "    </tr>\n",
       "    <tr>\n",
       "      <th>4</th>\n",
       "      <td>Hypertension</td>\n",
       "      <td>25198.03</td>\n",
       "    </tr>\n",
       "    <tr>\n",
       "      <th>5</th>\n",
       "      <td>Arthritis</td>\n",
       "      <td>25187.63</td>\n",
       "    </tr>\n",
       "  </tbody>\n",
       "</table>\n",
       "</div>"
      ],
      "text/plain": [
       "    DiseaseName   Average\n",
       "0      Diabetes  26060.12\n",
       "1       Obesity  25720.84\n",
       "2        Cancer  25539.10\n",
       "3        Asthma  25416.87\n",
       "4  Hypertension  25198.03\n",
       "5     Arthritis  25187.63"
      ]
     },
     "metadata": {},
     "output_type": "display_data"
    }
   ],
   "source": [
    "conn = sqlite3.connect(\"healthcare.db\")\n",
    "disi = pd.read_sql_query(\"SELECT d.DiseaseName, round(AVG(a.BillingAmount),2) as Average FROM Admission a JOIN Disease d on d.DiseaseID = a.DiseaseID group by d.DiseaseName ORDER BY Average DESC \",conn)\n",
    "display(disi)"
   ]
  },
  {
   "cell_type": "code",
   "execution_count": 59,
   "id": "2792107e",
   "metadata": {},
   "outputs": [
    {
     "data": {
      "text/plain": [
       "Text(0, 0.5, 'Y-axis')"
      ]
     },
     "execution_count": 59,
     "metadata": {},
     "output_type": "execute_result"
    },
    {
     "data": {
      "image/png": "[encoded data removed]",
      "text/plain": [
       "<Figure size 640x480 with 1 Axes>"
      ]
     },
     "metadata": {},
     "output_type": "display_data"
    }
   ],
   "source": [
    "plt.plot(disi.DiseaseName, disi.Average , label='Line Plot',color = 'darkgreen')\n",
    "\n",
    "# Step 4: Customize the plot (optional)\n",
    "plt.title('Average Billing Amount by Disease')\n",
    "plt.xlabel('X-axis')\n",
    "plt.ylabel('Y-axis')\n",
    "# Display legend if labels are provided\n"
   ]
  },
  {
   "cell_type": "markdown",
   "id": "7560d673",
   "metadata": {},
   "source": [
    "# Most Prevalent Disease by Month "
   ]
  },
  {
   "cell_type": "code",
   "execution_count": 61,
   "id": "58bb5218",
   "metadata": {},
   "outputs": [
    {
     "data": {
      "text/html": [
       "<div>\n",
       "<style scoped>\n",
       "    .dataframe tbody tr th:only-of-type {\n",
       "        vertical-align: middle;\n",
       "    }\n",
       "\n",
       "    .dataframe tbody tr th {\n",
       "        vertical-align: top;\n",
       "    }\n",
       "\n",
       "    .dataframe thead th {\n",
       "        text-align: right;\n",
       "    }\n",
       "</style>\n",
       "<table border=\"1\" class=\"dataframe\">\n",
       "  <thead>\n",
       "    <tr style=\"text-align: right;\">\n",
       "      <th></th>\n",
       "      <th>Month</th>\n",
       "      <th>DiseaseName</th>\n",
       "      <th>Disease_To_lookout_for</th>\n",
       "    </tr>\n",
       "  </thead>\n",
       "  <tbody>\n",
       "    <tr>\n",
       "      <th>0</th>\n",
       "      <td>01</td>\n",
       "      <td>Cancer</td>\n",
       "      <td>164</td>\n",
       "    </tr>\n",
       "    <tr>\n",
       "      <th>1</th>\n",
       "      <td>02</td>\n",
       "      <td>Arthritis</td>\n",
       "      <td>151</td>\n",
       "    </tr>\n",
       "    <tr>\n",
       "      <th>2</th>\n",
       "      <td>03</td>\n",
       "      <td>Diabetes</td>\n",
       "      <td>156</td>\n",
       "    </tr>\n",
       "    <tr>\n",
       "      <th>3</th>\n",
       "      <td>04</td>\n",
       "      <td>Asthma</td>\n",
       "      <td>162</td>\n",
       "    </tr>\n",
       "    <tr>\n",
       "      <th>4</th>\n",
       "      <td>05</td>\n",
       "      <td>Asthma</td>\n",
       "      <td>158</td>\n",
       "    </tr>\n",
       "    <tr>\n",
       "      <th>5</th>\n",
       "      <td>06</td>\n",
       "      <td>Arthritis</td>\n",
       "      <td>170</td>\n",
       "    </tr>\n",
       "    <tr>\n",
       "      <th>6</th>\n",
       "      <td>07</td>\n",
       "      <td>Cancer</td>\n",
       "      <td>145</td>\n",
       "    </tr>\n",
       "    <tr>\n",
       "      <th>7</th>\n",
       "      <td>08</td>\n",
       "      <td>Diabetes</td>\n",
       "      <td>157</td>\n",
       "    </tr>\n",
       "    <tr>\n",
       "      <th>8</th>\n",
       "      <td>09</td>\n",
       "      <td>Hypertension</td>\n",
       "      <td>153</td>\n",
       "    </tr>\n",
       "    <tr>\n",
       "      <th>9</th>\n",
       "      <td>10</td>\n",
       "      <td>Hypertension</td>\n",
       "      <td>173</td>\n",
       "    </tr>\n",
       "    <tr>\n",
       "      <th>10</th>\n",
       "      <td>11</td>\n",
       "      <td>Asthma</td>\n",
       "      <td>152</td>\n",
       "    </tr>\n",
       "    <tr>\n",
       "      <th>11</th>\n",
       "      <td>12</td>\n",
       "      <td>Cancer</td>\n",
       "      <td>149</td>\n",
       "    </tr>\n",
       "  </tbody>\n",
       "</table>\n",
       "</div>"
      ],
      "text/plain": [
       "   Month   DiseaseName  Disease_To_lookout_for\n",
       "0     01        Cancer                     164\n",
       "1     02     Arthritis                     151\n",
       "2     03      Diabetes                     156\n",
       "3     04        Asthma                     162\n",
       "4     05        Asthma                     158\n",
       "5     06     Arthritis                     170\n",
       "6     07        Cancer                     145\n",
       "7     08      Diabetes                     157\n",
       "8     09  Hypertension                     153\n",
       "9     10  Hypertension                     173\n",
       "10    11        Asthma                     152\n",
       "11    12        Cancer                     149"
      ]
     },
     "metadata": {},
     "output_type": "display_data"
    }
   ],
   "source": [
    "#frequency of diseases with month\n",
    "conn = sqlite3.connect(\"healthcare.db\")\n",
    "disi = pd.read_sql_query(\"with temp as(SELECT  strftime('%m', a.DateofAdmission)as Month,d.DiseaseName,(count(d.DiseaseName)) as Count from Admission a join Disease d on d.DiseaseID=a.DiseaseID group by Month, d.DiseaseName) select Month , DiseaseName,max(Count) as Disease_To_lookout_for from temp group by Month\",conn)\n",
    "display(disi)\n"
   ]
  },
  {
   "cell_type": "markdown",
   "id": "382f203e",
   "metadata": {},
   "source": [
    "# Doctors Available Per Disease\n"
   ]
  },
  {
   "cell_type": "code",
   "execution_count": 66,
   "id": "e6a5a210",
   "metadata": {},
   "outputs": [
    {
     "data": {
      "text/html": [
       "<div>\n",
       "<style scoped>\n",
       "    .dataframe tbody tr th:only-of-type {\n",
       "        vertical-align: middle;\n",
       "    }\n",
       "\n",
       "    .dataframe tbody tr th {\n",
       "        vertical-align: top;\n",
       "    }\n",
       "\n",
       "    .dataframe thead th {\n",
       "        text-align: right;\n",
       "    }\n",
       "</style>\n",
       "<table border=\"1\" class=\"dataframe\">\n",
       "  <thead>\n",
       "    <tr style=\"text-align: right;\">\n",
       "      <th></th>\n",
       "      <th>DiseaseName</th>\n",
       "      <th>DoctorsAvailable</th>\n",
       "    </tr>\n",
       "  </thead>\n",
       "  <tbody>\n",
       "    <tr>\n",
       "      <th>0</th>\n",
       "      <td>Arthritis</td>\n",
       "      <td>1650</td>\n",
       "    </tr>\n",
       "    <tr>\n",
       "      <th>1</th>\n",
       "      <td>Asthma</td>\n",
       "      <td>1708</td>\n",
       "    </tr>\n",
       "    <tr>\n",
       "      <th>2</th>\n",
       "      <td>Cancer</td>\n",
       "      <td>1703</td>\n",
       "    </tr>\n",
       "    <tr>\n",
       "      <th>3</th>\n",
       "      <td>Diabetes</td>\n",
       "      <td>1623</td>\n",
       "    </tr>\n",
       "    <tr>\n",
       "      <th>4</th>\n",
       "      <td>Hypertension</td>\n",
       "      <td>1688</td>\n",
       "    </tr>\n",
       "    <tr>\n",
       "      <th>5</th>\n",
       "      <td>Obesity</td>\n",
       "      <td>1628</td>\n",
       "    </tr>\n",
       "  </tbody>\n",
       "</table>\n",
       "</div>"
      ],
      "text/plain": [
       "    DiseaseName  DoctorsAvailable\n",
       "0     Arthritis              1650\n",
       "1        Asthma              1708\n",
       "2        Cancer              1703\n",
       "3      Diabetes              1623\n",
       "4  Hypertension              1688\n",
       "5       Obesity              1628"
      ]
     },
     "metadata": {},
     "output_type": "display_data"
    }
   ],
   "source": [
    "conn = sqlite3.connect(\"healthcare.db\")\n",
    "disi = pd.read_sql_query(\"SELECT DiseaseName,count(DoctorID) as DoctorsAvailable from Admission a join Disease d on d.DiseaseID=a.DiseaseID group by DiseaseName\",conn)\n",
    "display(disi)"
   ]
  },
  {
   "cell_type": "markdown",
   "id": "b52c6513",
   "metadata": {},
   "source": [
    "# Doctors Per Hospital"
   ]
  },
  {
   "cell_type": "code",
   "execution_count": 67,
   "id": "30c4994c",
   "metadata": {},
   "outputs": [
    {
     "data": {
      "text/html": [
       "<div>\n",
       "<style scoped>\n",
       "    .dataframe tbody tr th:only-of-type {\n",
       "        vertical-align: middle;\n",
       "    }\n",
       "\n",
       "    .dataframe tbody tr th {\n",
       "        vertical-align: top;\n",
       "    }\n",
       "\n",
       "    .dataframe thead th {\n",
       "        text-align: right;\n",
       "    }\n",
       "</style>\n",
       "<table border=\"1\" class=\"dataframe\">\n",
       "  <thead>\n",
       "    <tr style=\"text-align: right;\">\n",
       "      <th></th>\n",
       "      <th>Name</th>\n",
       "      <th>Num_Doctors</th>\n",
       "    </tr>\n",
       "  </thead>\n",
       "  <tbody>\n",
       "    <tr>\n",
       "      <th>0</th>\n",
       "      <td>Smith PLC</td>\n",
       "      <td>19</td>\n",
       "    </tr>\n",
       "    <tr>\n",
       "      <th>1</th>\n",
       "      <td>Smith and Sons</td>\n",
       "      <td>17</td>\n",
       "    </tr>\n",
       "    <tr>\n",
       "      <th>2</th>\n",
       "      <td>Smith Ltd</td>\n",
       "      <td>14</td>\n",
       "    </tr>\n",
       "    <tr>\n",
       "      <th>3</th>\n",
       "      <td>Smith Inc</td>\n",
       "      <td>14</td>\n",
       "    </tr>\n",
       "    <tr>\n",
       "      <th>4</th>\n",
       "      <td>Johnson PLC</td>\n",
       "      <td>13</td>\n",
       "    </tr>\n",
       "    <tr>\n",
       "      <th>5</th>\n",
       "      <td>Williams LLC</td>\n",
       "      <td>12</td>\n",
       "    </tr>\n",
       "    <tr>\n",
       "      <th>6</th>\n",
       "      <td>Williams Inc</td>\n",
       "      <td>12</td>\n",
       "    </tr>\n",
       "    <tr>\n",
       "      <th>7</th>\n",
       "      <td>Smith Group</td>\n",
       "      <td>12</td>\n",
       "    </tr>\n",
       "    <tr>\n",
       "      <th>8</th>\n",
       "      <td>Thomas Group</td>\n",
       "      <td>11</td>\n",
       "    </tr>\n",
       "    <tr>\n",
       "      <th>9</th>\n",
       "      <td>Johnson Ltd</td>\n",
       "      <td>11</td>\n",
       "    </tr>\n",
       "  </tbody>\n",
       "</table>\n",
       "</div>"
      ],
      "text/plain": [
       "             Name  Num_Doctors\n",
       "0       Smith PLC           19\n",
       "1  Smith and Sons           17\n",
       "2       Smith Ltd           14\n",
       "3       Smith Inc           14\n",
       "4     Johnson PLC           13\n",
       "5    Williams LLC           12\n",
       "6    Williams Inc           12\n",
       "7     Smith Group           12\n",
       "8    Thomas Group           11\n",
       "9     Johnson Ltd           11"
      ]
     },
     "metadata": {},
     "output_type": "display_data"
    }
   ],
   "source": [
    "### Numbers of doctors by Hospital\n",
    "conn = sqlite3.connect(\"healthcare.db\")\n",
    "num_doc = pd.read_sql_query(\"SELECT h.name, count(d.doctorid) as Num_Doctors FROM Admission a JOIN Hospital h on h.HospitalID = a.hospitalid JOIN Doctor d on d.doctorid = a.doctorid group by h.name ORDER BY Num_Doctors DESC LIMIT 10\", conn)\n",
    "display(num_doc)"
   ]
  },
  {
   "cell_type": "markdown",
   "id": "d04387ee",
   "metadata": {},
   "source": [
    "# SQL Query to aggregate the denormalised dataset using JOINS "
   ]
  },
  {
   "cell_type": "code",
   "execution_count": 23,
   "id": "b330f6e2",
   "metadata": {},
   "outputs": [
    {
     "data": {
      "text/html": [
       "<div>\n",
       "<style scoped>\n",
       "    .dataframe tbody tr th:only-of-type {\n",
       "        vertical-align: middle;\n",
       "    }\n",
       "\n",
       "    .dataframe tbody tr th {\n",
       "        vertical-align: top;\n",
       "    }\n",
       "\n",
       "    .dataframe thead th {\n",
       "        text-align: right;\n",
       "    }\n",
       "</style>\n",
       "<table border=\"1\" class=\"dataframe\">\n",
       "  <thead>\n",
       "    <tr style=\"text-align: right;\">\n",
       "      <th></th>\n",
       "      <th>Name</th>\n",
       "      <th>Age</th>\n",
       "      <th>Gender</th>\n",
       "      <th>Blood Group</th>\n",
       "      <th>DiseaseName</th>\n",
       "      <th>DateofAdmission</th>\n",
       "      <th>DoctorName</th>\n",
       "      <th>HospitalName</th>\n",
       "      <th>InsuranceProviderName</th>\n",
       "      <th>BillingAmount</th>\n",
       "      <th>RoomNumber</th>\n",
       "      <th>AdmissionType</th>\n",
       "      <th>DischargeDate</th>\n",
       "      <th>MedicationName</th>\n",
       "      <th>ResultType</th>\n",
       "    </tr>\n",
       "  </thead>\n",
       "  <tbody>\n",
       "    <tr>\n",
       "      <th>0</th>\n",
       "      <td>Tiffany Ramirez</td>\n",
       "      <td>81</td>\n",
       "      <td>Female</td>\n",
       "      <td>O-</td>\n",
       "      <td>Diabetes</td>\n",
       "      <td>2022-11-17</td>\n",
       "      <td>Patrick Parker</td>\n",
       "      <td>Wallace-Hamilton</td>\n",
       "      <td>Medicare</td>\n",
       "      <td>37490.983364</td>\n",
       "      <td>146</td>\n",
       "      <td>Elective</td>\n",
       "      <td>2022-12-01</td>\n",
       "      <td>Aspirin</td>\n",
       "      <td>Inconclusive</td>\n",
       "    </tr>\n",
       "    <tr>\n",
       "      <th>1</th>\n",
       "      <td>Ruben Burns</td>\n",
       "      <td>35</td>\n",
       "      <td>Male</td>\n",
       "      <td>O+</td>\n",
       "      <td>Asthma</td>\n",
       "      <td>2023-06-01</td>\n",
       "      <td>Diane Jackson</td>\n",
       "      <td>Burke, Griffin and Cooper</td>\n",
       "      <td>UnitedHealthcare</td>\n",
       "      <td>47304.064845</td>\n",
       "      <td>404</td>\n",
       "      <td>Emergency</td>\n",
       "      <td>2023-06-15</td>\n",
       "      <td>Lipitor</td>\n",
       "      <td>Normal</td>\n",
       "    </tr>\n",
       "    <tr>\n",
       "      <th>2</th>\n",
       "      <td>Chad Byrd</td>\n",
       "      <td>61</td>\n",
       "      <td>Male</td>\n",
       "      <td>B-</td>\n",
       "      <td>Obesity</td>\n",
       "      <td>2019-01-09</td>\n",
       "      <td>Paul Baker</td>\n",
       "      <td>Walton LLC</td>\n",
       "      <td>Medicare</td>\n",
       "      <td>36874.896997</td>\n",
       "      <td>292</td>\n",
       "      <td>Emergency</td>\n",
       "      <td>2019-02-08</td>\n",
       "      <td>Lipitor</td>\n",
       "      <td>Normal</td>\n",
       "    </tr>\n",
       "    <tr>\n",
       "      <th>3</th>\n",
       "      <td>Antonio Frederick</td>\n",
       "      <td>49</td>\n",
       "      <td>Male</td>\n",
       "      <td>B-</td>\n",
       "      <td>Asthma</td>\n",
       "      <td>2020-05-02</td>\n",
       "      <td>Brian Chandler</td>\n",
       "      <td>Garcia Ltd</td>\n",
       "      <td>Medicare</td>\n",
       "      <td>23303.322092</td>\n",
       "      <td>480</td>\n",
       "      <td>Urgent</td>\n",
       "      <td>2020-05-03</td>\n",
       "      <td>Penicillin</td>\n",
       "      <td>Abnormal</td>\n",
       "    </tr>\n",
       "    <tr>\n",
       "      <th>4</th>\n",
       "      <td>Mrs. Brandy Flowers</td>\n",
       "      <td>51</td>\n",
       "      <td>Male</td>\n",
       "      <td>O-</td>\n",
       "      <td>Arthritis</td>\n",
       "      <td>2021-07-09</td>\n",
       "      <td>Dustin Griffin</td>\n",
       "      <td>Jones, Brown and Murray</td>\n",
       "      <td>UnitedHealthcare</td>\n",
       "      <td>18086.344184</td>\n",
       "      <td>477</td>\n",
       "      <td>Urgent</td>\n",
       "      <td>2021-08-02</td>\n",
       "      <td>Paracetamol</td>\n",
       "      <td>Normal</td>\n",
       "    </tr>\n",
       "    <tr>\n",
       "      <th>...</th>\n",
       "      <td>...</td>\n",
       "      <td>...</td>\n",
       "      <td>...</td>\n",
       "      <td>...</td>\n",
       "      <td>...</td>\n",
       "      <td>...</td>\n",
       "      <td>...</td>\n",
       "      <td>...</td>\n",
       "      <td>...</td>\n",
       "      <td>...</td>\n",
       "      <td>...</td>\n",
       "      <td>...</td>\n",
       "      <td>...</td>\n",
       "      <td>...</td>\n",
       "      <td>...</td>\n",
       "    </tr>\n",
       "    <tr>\n",
       "      <th>9995</th>\n",
       "      <td>James Hood</td>\n",
       "      <td>83</td>\n",
       "      <td>Male</td>\n",
       "      <td>A+</td>\n",
       "      <td>Obesity</td>\n",
       "      <td>2022-07-29</td>\n",
       "      <td>Samuel Moody</td>\n",
       "      <td>Wood, Martin and Simmons</td>\n",
       "      <td>UnitedHealthcare</td>\n",
       "      <td>39606.840083</td>\n",
       "      <td>110</td>\n",
       "      <td>Elective</td>\n",
       "      <td>2022-08-02</td>\n",
       "      <td>Ibuprofen</td>\n",
       "      <td>Abnormal</td>\n",
       "    </tr>\n",
       "    <tr>\n",
       "      <th>9996</th>\n",
       "      <td>Stephanie Evans</td>\n",
       "      <td>47</td>\n",
       "      <td>Female</td>\n",
       "      <td>AB+</td>\n",
       "      <td>Arthritis</td>\n",
       "      <td>2022-01-06</td>\n",
       "      <td>Christopher Yates</td>\n",
       "      <td>Nash-Krueger</td>\n",
       "      <td>Blue Cross</td>\n",
       "      <td>5995.717488</td>\n",
       "      <td>244</td>\n",
       "      <td>Emergency</td>\n",
       "      <td>2022-01-29</td>\n",
       "      <td>Ibuprofen</td>\n",
       "      <td>Normal</td>\n",
       "    </tr>\n",
       "    <tr>\n",
       "      <th>9997</th>\n",
       "      <td>Christopher Martinez</td>\n",
       "      <td>54</td>\n",
       "      <td>Male</td>\n",
       "      <td>B-</td>\n",
       "      <td>Arthritis</td>\n",
       "      <td>2022-07-01</td>\n",
       "      <td>Robert Nicholson</td>\n",
       "      <td>Larson and Sons</td>\n",
       "      <td>Blue Cross</td>\n",
       "      <td>49559.202905</td>\n",
       "      <td>312</td>\n",
       "      <td>Elective</td>\n",
       "      <td>2022-07-15</td>\n",
       "      <td>Ibuprofen</td>\n",
       "      <td>Normal</td>\n",
       "    </tr>\n",
       "    <tr>\n",
       "      <th>9998</th>\n",
       "      <td>Amanda Duke</td>\n",
       "      <td>84</td>\n",
       "      <td>Male</td>\n",
       "      <td>A+</td>\n",
       "      <td>Arthritis</td>\n",
       "      <td>2020-02-06</td>\n",
       "      <td>Jamie Lewis</td>\n",
       "      <td>Wilson-Lyons</td>\n",
       "      <td>UnitedHealthcare</td>\n",
       "      <td>25236.344761</td>\n",
       "      <td>420</td>\n",
       "      <td>Urgent</td>\n",
       "      <td>2020-02-26</td>\n",
       "      <td>Penicillin</td>\n",
       "      <td>Normal</td>\n",
       "    </tr>\n",
       "    <tr>\n",
       "      <th>9999</th>\n",
       "      <td>Eric King</td>\n",
       "      <td>20</td>\n",
       "      <td>Male</td>\n",
       "      <td>B-</td>\n",
       "      <td>Arthritis</td>\n",
       "      <td>2023-03-22</td>\n",
       "      <td>Tasha Avila</td>\n",
       "      <td>Torres, Young and Stewart</td>\n",
       "      <td>Aetna</td>\n",
       "      <td>37223.965865</td>\n",
       "      <td>290</td>\n",
       "      <td>Emergency</td>\n",
       "      <td>2023-04-15</td>\n",
       "      <td>Penicillin</td>\n",
       "      <td>Abnormal</td>\n",
       "    </tr>\n",
       "  </tbody>\n",
       "</table>\n",
       "<p>10000 rows × 15 columns</p>\n",
       "</div>"
      ],
      "text/plain": [
       "                      Name  Age  Gender Blood Group DiseaseName  \\\n",
       "0          Tiffany Ramirez   81  Female          O-    Diabetes   \n",
       "1              Ruben Burns   35    Male          O+      Asthma   \n",
       "2                Chad Byrd   61    Male          B-     Obesity   \n",
       "3        Antonio Frederick   49    Male          B-      Asthma   \n",
       "4      Mrs. Brandy Flowers   51    Male          O-   Arthritis   \n",
       "...                    ...  ...     ...         ...         ...   \n",
       "9995            James Hood   83    Male          A+     Obesity   \n",
       "9996       Stephanie Evans   47  Female         AB+   Arthritis   \n",
       "9997  Christopher Martinez   54    Male          B-   Arthritis   \n",
       "9998           Amanda Duke   84    Male          A+   Arthritis   \n",
       "9999             Eric King   20    Male          B-   Arthritis   \n",
       "\n",
       "     DateofAdmission         DoctorName               HospitalName  \\\n",
       "0         2022-11-17     Patrick Parker           Wallace-Hamilton   \n",
       "1         2023-06-01      Diane Jackson  Burke, Griffin and Cooper   \n",
       "2         2019-01-09         Paul Baker                 Walton LLC   \n",
       "3         2020-05-02     Brian Chandler                 Garcia Ltd   \n",
       "4         2021-07-09     Dustin Griffin    Jones, Brown and Murray   \n",
       "...              ...                ...                        ...   \n",
       "9995      2022-07-29       Samuel Moody   Wood, Martin and Simmons   \n",
       "9996      2022-01-06  Christopher Yates               Nash-Krueger   \n",
       "9997      2022-07-01   Robert Nicholson            Larson and Sons   \n",
       "9998      2020-02-06        Jamie Lewis               Wilson-Lyons   \n",
       "9999      2023-03-22        Tasha Avila  Torres, Young and Stewart   \n",
       "\n",
       "     InsuranceProviderName  BillingAmount  RoomNumber AdmissionType  \\\n",
       "0                 Medicare   37490.983364         146      Elective   \n",
       "1         UnitedHealthcare   47304.064845         404     Emergency   \n",
       "2                 Medicare   36874.896997         292     Emergency   \n",
       "3                 Medicare   23303.322092         480        Urgent   \n",
       "4         UnitedHealthcare   18086.344184         477        Urgent   \n",
       "...                    ...            ...         ...           ...   \n",
       "9995      UnitedHealthcare   39606.840083         110      Elective   \n",
       "9996            Blue Cross    5995.717488         244     Emergency   \n",
       "9997            Blue Cross   49559.202905         312      Elective   \n",
       "9998      UnitedHealthcare   25236.344761         420        Urgent   \n",
       "9999                 Aetna   37223.965865         290     Emergency   \n",
       "\n",
       "     DischargeDate MedicationName    ResultType  \n",
       "0       2022-12-01        Aspirin  Inconclusive  \n",
       "1       2023-06-15        Lipitor        Normal  \n",
       "2       2019-02-08        Lipitor        Normal  \n",
       "3       2020-05-03     Penicillin      Abnormal  \n",
       "4       2021-08-02    Paracetamol        Normal  \n",
       "...            ...            ...           ...  \n",
       "9995    2022-08-02      Ibuprofen      Abnormal  \n",
       "9996    2022-01-29      Ibuprofen        Normal  \n",
       "9997    2022-07-15      Ibuprofen        Normal  \n",
       "9998    2020-02-26     Penicillin        Normal  \n",
       "9999    2023-04-15     Penicillin      Abnormal  \n",
       "\n",
       "[10000 rows x 15 columns]"
      ]
     },
     "metadata": {},
     "output_type": "display_data"
    }
   ],
   "source": [
    "conn = sqlite3.connect(\"healthcare.db\")\n",
    "final_df = pd.read_sql_query('''SELECT \n",
    "    p.name,\n",
    "    p.age,\n",
    "    p.gender,\n",
    "    p.'blood group',\n",
    "    d.DiseaseName,\n",
    "    a.DateofAdmission,\n",
    "    doc.name AS DoctorName,\n",
    "    h.name AS HospitalName,\n",
    "    ip.name AS InsuranceProviderName,\n",
    "    a.BillingAmount,\n",
    "    a.RoomNumber,\n",
    "    at.type AS AdmissionType,\n",
    "    a.DischargeDate,\n",
    "    med.MedicationName,\n",
    "    res.ResultType \n",
    "FROM \n",
    "    Admission a \n",
    "JOIN \n",
    "    patient p ON a.PatientID = p.PatientID \n",
    "JOIN \n",
    "    Doctor doc ON doc.DoctorID = a.DoctorID \n",
    "JOIN \n",
    "    hospital h ON h.HospitalID = a.HospitalID \n",
    "JOIN \n",
    "    InsuranceProvider ip ON ip.InsuranceID = a.InsuranceID \n",
    "JOIN \n",
    "    Disease d ON d.DiseaseID = a.DiseaseID \n",
    "JOIN \n",
    "    Medication med ON med.MedicationID = a.MedicationID \n",
    "JOIN \n",
    "    AdmissionType at ON at.AdTypeID = a.AdTypeID \n",
    "JOIN \n",
    "    Result res ON res.ResultID = a.ResultID;\n",
    "''',conn)\n",
    "display(final_df)"
   ]
  },
  {
   "cell_type": "code",
   "execution_count": 24,
   "id": "cfb8957b",
   "metadata": {},
   "outputs": [
    {
     "name": "stdout",
     "output_type": "stream",
     "text": [
      "<class 'pandas.core.frame.DataFrame'>\n",
      "RangeIndex: 10000 entries, 0 to 9999\n",
      "Data columns (total 15 columns):\n",
      " #   Column                 Non-Null Count  Dtype  \n",
      "---  ------                 --------------  -----  \n",
      " 0   Name                   10000 non-null  object \n",
      " 1   Age                    10000 non-null  int64  \n",
      " 2   Gender                 10000 non-null  object \n",
      " 3   Blood Group            10000 non-null  object \n",
      " 4   DiseaseName            10000 non-null  object \n",
      " 5   DateofAdmission        10000 non-null  object \n",
      " 6   DoctorName             10000 non-null  object \n",
      " 7   HospitalName           10000 non-null  object \n",
      " 8   InsuranceProviderName  10000 non-null  object \n",
      " 9   BillingAmount          10000 non-null  float64\n",
      " 10  RoomNumber             10000 non-null  int64  \n",
      " 11  AdmissionType          10000 non-null  object \n",
      " 12  DischargeDate          10000 non-null  object \n",
      " 13  MedicationName         10000 non-null  object \n",
      " 14  ResultType             10000 non-null  object \n",
      "dtypes: float64(1), int64(2), object(12)\n",
      "memory usage: 1.1+ MB\n"
     ]
    }
   ],
   "source": [
    "final_df.info()"
   ]
  },
  {
   "cell_type": "markdown",
   "id": "ee029a19",
   "metadata": {},
   "source": [
    "changing the datatype of DateofAdmission and DischargeDate column inorder to calculate length of stay"
   ]
  },
  {
   "cell_type": "code",
   "execution_count": 25,
   "id": "b09ec598",
   "metadata": {},
   "outputs": [],
   "source": [
    "final_df.DateofAdmission=pd.to_datetime(final_df.DateofAdmission)"
   ]
  },
  {
   "cell_type": "code",
   "execution_count": 26,
   "id": "b1b473ec",
   "metadata": {},
   "outputs": [],
   "source": [
    "final_df.DischargeDate=pd.to_datetime(final_df.DischargeDate)"
   ]
  },
  {
   "cell_type": "code",
   "execution_count": 27,
   "id": "3380b6c5",
   "metadata": {
    "scrolled": true
   },
   "outputs": [
    {
     "name": "stdout",
     "output_type": "stream",
     "text": [
      "<class 'pandas.core.frame.DataFrame'>\n",
      "RangeIndex: 10000 entries, 0 to 9999\n",
      "Data columns (total 15 columns):\n",
      " #   Column                 Non-Null Count  Dtype         \n",
      "---  ------                 --------------  -----         \n",
      " 0   Name                   10000 non-null  object        \n",
      " 1   Age                    10000 non-null  int64         \n",
      " 2   Gender                 10000 non-null  object        \n",
      " 3   Blood Group            10000 non-null  object        \n",
      " 4   DiseaseName            10000 non-null  object        \n",
      " 5   DateofAdmission        10000 non-null  datetime64[ns]\n",
      " 6   DoctorName             10000 non-null  object        \n",
      " 7   HospitalName           10000 non-null  object        \n",
      " 8   InsuranceProviderName  10000 non-null  object        \n",
      " 9   BillingAmount          10000 non-null  float64       \n",
      " 10  RoomNumber             10000 non-null  int64         \n",
      " 11  AdmissionType          10000 non-null  object        \n",
      " 12  DischargeDate          10000 non-null  datetime64[ns]\n",
      " 13  MedicationName         10000 non-null  object        \n",
      " 14  ResultType             10000 non-null  object        \n",
      "dtypes: datetime64[ns](2), float64(1), int64(2), object(10)\n",
      "memory usage: 1.1+ MB\n"
     ]
    }
   ],
   "source": [
    "final_df.info()"
   ]
  },
  {
   "cell_type": "code",
   "execution_count": 28,
   "id": "de7be1db",
   "metadata": {},
   "outputs": [],
   "source": [
    "final_df['LengthOfStay']=final_df.DischargeDate-final_df.DateofAdmission"
   ]
  },
  {
   "cell_type": "code",
   "execution_count": 29,
   "id": "ca168fd3",
   "metadata": {},
   "outputs": [
    {
     "data": {
      "text/plain": [
       "Name                     0\n",
       "Age                      0\n",
       "Gender                   0\n",
       "Blood Group              0\n",
       "DiseaseName              0\n",
       "DateofAdmission          0\n",
       "DoctorName               0\n",
       "HospitalName             0\n",
       "InsuranceProviderName    0\n",
       "BillingAmount            0\n",
       "RoomNumber               0\n",
       "AdmissionType            0\n",
       "DischargeDate            0\n",
       "MedicationName           0\n",
       "ResultType               0\n",
       "LengthOfStay             0\n",
       "dtype: int64"
      ]
     },
     "execution_count": 29,
     "metadata": {},
     "output_type": "execute_result"
    }
   ],
   "source": [
    "#checking for null values in the dataset\n",
    "final_df.isna().sum()"
   ]
  },
  {
   "cell_type": "markdown",
   "id": "ada0b1ff",
   "metadata": {},
   "source": [
    "changing datatype of Length of Stay column to object inorder to strip numerical value of number of days "
   ]
  },
  {
   "cell_type": "code",
   "execution_count": 30,
   "id": "a53882b9",
   "metadata": {},
   "outputs": [],
   "source": [
    "final_df.LengthOfStay=final_df.LengthOfStay.astype(\"object\")"
   ]
  },
  {
   "cell_type": "code",
   "execution_count": null,
   "id": "0b54eee4",
   "metadata": {},
   "outputs": [],
   "source": []
  },
  {
   "cell_type": "code",
   "execution_count": 31,
   "id": "c51e8a01",
   "metadata": {},
   "outputs": [],
   "source": [
    "#function to strip length of stay value and convert the value into integer\n",
    "def convert_length(vals):\n",
    "    return(int(str(vals).split(\" \")[0]))\n",
    "\n",
    "final_df['LengthOfStay']=final_df['LengthOfStay'].apply(convert_length)"
   ]
  },
  {
   "cell_type": "code",
   "execution_count": 32,
   "id": "7ec0a609",
   "metadata": {},
   "outputs": [
    {
     "name": "stdout",
     "output_type": "stream",
     "text": [
      "<class 'pandas.core.frame.DataFrame'>\n",
      "RangeIndex: 10000 entries, 0 to 9999\n",
      "Data columns (total 16 columns):\n",
      " #   Column                 Non-Null Count  Dtype         \n",
      "---  ------                 --------------  -----         \n",
      " 0   Name                   10000 non-null  object        \n",
      " 1   Age                    10000 non-null  int64         \n",
      " 2   Gender                 10000 non-null  object        \n",
      " 3   Blood Group            10000 non-null  object        \n",
      " 4   DiseaseName            10000 non-null  object        \n",
      " 5   DateofAdmission        10000 non-null  datetime64[ns]\n",
      " 6   DoctorName             10000 non-null  object        \n",
      " 7   HospitalName           10000 non-null  object        \n",
      " 8   InsuranceProviderName  10000 non-null  object        \n",
      " 9   BillingAmount          10000 non-null  float64       \n",
      " 10  RoomNumber             10000 non-null  int64         \n",
      " 11  AdmissionType          10000 non-null  object        \n",
      " 12  DischargeDate          10000 non-null  datetime64[ns]\n",
      " 13  MedicationName         10000 non-null  object        \n",
      " 14  ResultType             10000 non-null  object        \n",
      " 15  LengthOfStay           10000 non-null  int64         \n",
      "dtypes: datetime64[ns](2), float64(1), int64(3), object(10)\n",
      "memory usage: 1.2+ MB\n"
     ]
    }
   ],
   "source": [
    "final_df.info()"
   ]
  },
  {
   "cell_type": "code",
   "execution_count": 33,
   "id": "5cd5718f",
   "metadata": {},
   "outputs": [
    {
     "data": {
      "text/plain": [
       "<Axes: xlabel='LengthOfStay', ylabel='BillingAmount'>"
      ]
     },
     "execution_count": 33,
     "metadata": {},
     "output_type": "execute_result"
    },
    {
     "data": {
      "image/png": "[encoded data removed]",
      "text/plain": [
       "<Figure size 640x480 with 1 Axes>"
      ]
     },
     "metadata": {},
     "output_type": "display_data"
    }
   ],
   "source": [
    "import seaborn as sns\n",
    "sns.scatterplot(x=\"LengthOfStay\",y=\"BillingAmount\",data=final_df)"
   ]
  },
  {
   "cell_type": "code",
   "execution_count": 16,
   "id": "72c8221b",
   "metadata": {},
   "outputs": [
    {
     "data": {
      "text/plain": [
       "-0.013506705938534161"
      ]
     },
     "execution_count": 16,
     "metadata": {},
     "output_type": "execute_result"
    }
   ],
   "source": [
    "final_df.LengthOfStay.corr(final_df.BillingAmount)"
   ]
  },
  {
   "cell_type": "code",
   "execution_count": 18,
   "id": "9868dd3b",
   "metadata": {
    "scrolled": true
   },
   "outputs": [
    {
     "data": {
      "image/png": "[encoded data removed]",
      "text/plain": [
       "<Figure size 640x480 with 1 Axes>"
      ]
     },
     "metadata": {},
     "output_type": "display_data"
    }
   ],
   "source": [
    "import matplotlib.pyplot as plt\n",
    "plt.hist(final_df['LengthOfStay'], bins=30, edgecolor='black')\n",
    "plt.show()"
   ]
  },
  {
   "cell_type": "code",
   "execution_count": 34,
   "id": "5b6f522d",
   "metadata": {},
   "outputs": [
    {
     "data": {
      "image/png": "[encoded data removed]",
      "text/plain": [
       "<Figure size 640x480 with 1 Axes>"
      ]
     },
     "metadata": {},
     "output_type": "display_data"
    }
   ],
   "source": [
    "plt.hist(final_df['BillingAmount'], bins=30, edgecolor='black')\n",
    "plt.show()"
   ]
  },
  {
   "cell_type": "markdown",
   "id": "232f2778",
   "metadata": {},
   "source": [
    "Both the Length of Stay and Billing Amount columns seem to be uniformly distributed through the histograms above."
   ]
  },
  {
   "cell_type": "code",
   "execution_count": 35,
   "id": "37fa667e",
   "metadata": {},
   "outputs": [
    {
     "data": {
      "text/plain": [
       "Index(['Name', 'Age', 'Gender', 'Blood Group', 'DiseaseName',\n",
       "       'DateofAdmission', 'DoctorName', 'HospitalName',\n",
       "       'InsuranceProviderName', 'BillingAmount', 'RoomNumber', 'AdmissionType',\n",
       "       'DischargeDate', 'MedicationName', 'ResultType', 'LengthOfStay'],\n",
       "      dtype='object')"
      ]
     },
     "execution_count": 35,
     "metadata": {},
     "output_type": "execute_result"
    }
   ],
   "source": [
    "final_df.columns"
   ]
  },
  {
   "cell_type": "markdown",
   "id": "39be46bd",
   "metadata": {},
   "source": [
    "Dropping the PatientName, DateofAdmission,DoctorName,HospitalName, RoomNumber,DischargeDate columns\n",
    "PatientName,DoctorName,HospitalName --> dropped due to high dimensionality\n",
    "DateofAdmission,RoomNumber, DischargeDate --> dropped because of lack of usefulness"
   ]
  },
  {
   "cell_type": "code",
   "execution_count": 36,
   "id": "50fd10d1",
   "metadata": {},
   "outputs": [],
   "source": [
    "final_df.drop(['Name','DateofAdmission','DoctorName','HospitalName','RoomNumber','DischargeDate'],inplace=True,axis=1)"
   ]
  },
  {
   "cell_type": "code",
   "execution_count": 37,
   "id": "9f5dc28d",
   "metadata": {},
   "outputs": [
    {
     "data": {
      "text/html": [
       "<div>\n",
       "<style scoped>\n",
       "    .dataframe tbody tr th:only-of-type {\n",
       "        vertical-align: middle;\n",
       "    }\n",
       "\n",
       "    .dataframe tbody tr th {\n",
       "        vertical-align: top;\n",
       "    }\n",
       "\n",
       "    .dataframe thead th {\n",
       "        text-align: right;\n",
       "    }\n",
       "</style>\n",
       "<table border=\"1\" class=\"dataframe\">\n",
       "  <thead>\n",
       "    <tr style=\"text-align: right;\">\n",
       "      <th></th>\n",
       "      <th>Age</th>\n",
       "      <th>Gender</th>\n",
       "      <th>Blood Group</th>\n",
       "      <th>DiseaseName</th>\n",
       "      <th>InsuranceProviderName</th>\n",
       "      <th>BillingAmount</th>\n",
       "      <th>AdmissionType</th>\n",
       "      <th>MedicationName</th>\n",
       "      <th>ResultType</th>\n",
       "      <th>LengthOfStay</th>\n",
       "    </tr>\n",
       "  </thead>\n",
       "  <tbody>\n",
       "    <tr>\n",
       "      <th>0</th>\n",
       "      <td>81</td>\n",
       "      <td>Female</td>\n",
       "      <td>O-</td>\n",
       "      <td>Diabetes</td>\n",
       "      <td>Medicare</td>\n",
       "      <td>37490.983364</td>\n",
       "      <td>Elective</td>\n",
       "      <td>Aspirin</td>\n",
       "      <td>Inconclusive</td>\n",
       "      <td>14</td>\n",
       "    </tr>\n",
       "    <tr>\n",
       "      <th>1</th>\n",
       "      <td>35</td>\n",
       "      <td>Male</td>\n",
       "      <td>O+</td>\n",
       "      <td>Asthma</td>\n",
       "      <td>UnitedHealthcare</td>\n",
       "      <td>47304.064845</td>\n",
       "      <td>Emergency</td>\n",
       "      <td>Lipitor</td>\n",
       "      <td>Normal</td>\n",
       "      <td>14</td>\n",
       "    </tr>\n",
       "    <tr>\n",
       "      <th>2</th>\n",
       "      <td>61</td>\n",
       "      <td>Male</td>\n",
       "      <td>B-</td>\n",
       "      <td>Obesity</td>\n",
       "      <td>Medicare</td>\n",
       "      <td>36874.896997</td>\n",
       "      <td>Emergency</td>\n",
       "      <td>Lipitor</td>\n",
       "      <td>Normal</td>\n",
       "      <td>30</td>\n",
       "    </tr>\n",
       "    <tr>\n",
       "      <th>3</th>\n",
       "      <td>49</td>\n",
       "      <td>Male</td>\n",
       "      <td>B-</td>\n",
       "      <td>Asthma</td>\n",
       "      <td>Medicare</td>\n",
       "      <td>23303.322092</td>\n",
       "      <td>Urgent</td>\n",
       "      <td>Penicillin</td>\n",
       "      <td>Abnormal</td>\n",
       "      <td>1</td>\n",
       "    </tr>\n",
       "    <tr>\n",
       "      <th>4</th>\n",
       "      <td>51</td>\n",
       "      <td>Male</td>\n",
       "      <td>O-</td>\n",
       "      <td>Arthritis</td>\n",
       "      <td>UnitedHealthcare</td>\n",
       "      <td>18086.344184</td>\n",
       "      <td>Urgent</td>\n",
       "      <td>Paracetamol</td>\n",
       "      <td>Normal</td>\n",
       "      <td>24</td>\n",
       "    </tr>\n",
       "  </tbody>\n",
       "</table>\n",
       "</div>"
      ],
      "text/plain": [
       "   Age  Gender Blood Group DiseaseName InsuranceProviderName  BillingAmount  \\\n",
       "0   81  Female          O-    Diabetes              Medicare   37490.983364   \n",
       "1   35    Male          O+      Asthma      UnitedHealthcare   47304.064845   \n",
       "2   61    Male          B-     Obesity              Medicare   36874.896997   \n",
       "3   49    Male          B-      Asthma              Medicare   23303.322092   \n",
       "4   51    Male          O-   Arthritis      UnitedHealthcare   18086.344184   \n",
       "\n",
       "  AdmissionType MedicationName    ResultType  LengthOfStay  \n",
       "0      Elective        Aspirin  Inconclusive            14  \n",
       "1     Emergency        Lipitor        Normal            14  \n",
       "2     Emergency        Lipitor        Normal            30  \n",
       "3        Urgent     Penicillin      Abnormal             1  \n",
       "4        Urgent    Paracetamol        Normal            24  "
      ]
     },
     "execution_count": 37,
     "metadata": {},
     "output_type": "execute_result"
    }
   ],
   "source": [
    "final_df.head()"
   ]
  },
  {
   "cell_type": "code",
   "execution_count": 38,
   "id": "51a84dc2",
   "metadata": {},
   "outputs": [
    {
     "data": {
      "text/plain": [
       "5"
      ]
     },
     "execution_count": 38,
     "metadata": {},
     "output_type": "execute_result"
    }
   ],
   "source": [
    "final_df[\"InsuranceProviderName\"].nunique()"
   ]
  },
  {
   "cell_type": "markdown",
   "id": "5362596e",
   "metadata": {},
   "source": [
    "# One Hot Encoding for Categorical Features"
   ]
  },
  {
   "cell_type": "code",
   "execution_count": 39,
   "id": "cbf5cd1f",
   "metadata": {},
   "outputs": [],
   "source": [
    "final_df = pd.get_dummies(final_df, columns=['Gender','MedicationName','AdmissionType','Blood Group','DiseaseName','InsuranceProviderName'],dtype=int)\n"
   ]
  },
  {
   "cell_type": "code",
   "execution_count": 40,
   "id": "0f97c295",
   "metadata": {},
   "outputs": [],
   "source": [
    "#converting target variable into numerical labels (0,1,2) for model building\n",
    "def cat_to_int(val):\n",
    "    if val==\"Abnormal\":\n",
    "        return 0\n",
    "    elif val==\"Inconclusive\":\n",
    "        return 1\n",
    "    else:\n",
    "        return 2"
   ]
  },
  {
   "cell_type": "code",
   "execution_count": 41,
   "id": "c0c49bcb",
   "metadata": {},
   "outputs": [
    {
     "data": {
      "text/plain": [
       "ResultType\n",
       "Abnormal        3456\n",
       "Inconclusive    3277\n",
       "Normal          3267\n",
       "Name: count, dtype: int64"
      ]
     },
     "execution_count": 41,
     "metadata": {},
     "output_type": "execute_result"
    }
   ],
   "source": [
    "final_df.ResultType.value_counts()"
   ]
  },
  {
   "cell_type": "code",
   "execution_count": 42,
   "id": "aafb426a",
   "metadata": {},
   "outputs": [
    {
     "data": {
      "text/plain": [
       "ResultType\n",
       "0    3456\n",
       "1    3277\n",
       "2    3267\n",
       "Name: count, dtype: int64"
      ]
     },
     "execution_count": 42,
     "metadata": {},
     "output_type": "execute_result"
    }
   ],
   "source": [
    "final_df['ResultType']=final_df[\"ResultType\"].apply(cat_to_int)\n",
    "final_df.ResultType.value_counts()"
   ]
  },
  {
   "cell_type": "code",
   "execution_count": 44,
   "id": "19741d8e",
   "metadata": {},
   "outputs": [],
   "source": [
    "from sklearn.model_selection import train_test_split\n",
    "from sklearn.metrics import accuracy_score, classification_report\n",
    "X_train, X_test, y_train, y_test = train_test_split(final_df.drop(['ResultType'],axis=1), final_df['ResultType'], test_size=0.2, random_state=72)"
   ]
  },
  {
   "cell_type": "code",
   "execution_count": 83,
   "id": "ecc2d9bf",
   "metadata": {},
   "outputs": [
    {
     "data": {
      "text/html": [
       "<style>#sk-container-id-4 {color: black;}#sk-container-id-4 pre{padding: 0;}#sk-container-id-4 div.sk-toggleable {background-color: white;}#sk-container-id-4 label.sk-toggleable__label {cursor: pointer;display: block;width: 100%;margin-bottom: 0;padding: 0.3em;box-sizing: border-box;text-align: center;}#sk-container-id-4 label.sk-toggleable__label-arrow:before {content: \"▸\";float: left;margin-right: 0.25em;color: #696969;}#sk-container-id-4 label.sk-toggleable__label-arrow:hover:before {color: black;}#sk-container-id-4 div.sk-estimator:hover label.sk-toggleable__label-arrow:before {color: black;}#sk-container-id-4 div.sk-toggleable__content {max-height: 0;max-width: 0;overflow: hidden;text-align: left;background-color: #f0f8ff;}#sk-container-id-4 div.sk-toggleable__content pre {margin: 0.2em;color: black;border-radius: 0.25em;background-color: #f0f8ff;}#sk-container-id-4 input.sk-toggleable__control:checked~div.sk-toggleable__content {max-height: 200px;max-width: 100%;overflow: auto;}#sk-container-id-4 input.sk-toggleable__control:checked~label.sk-toggleable__label-arrow:before {content: \"▾\";}#sk-container-id-4 div.sk-estimator input.sk-toggleable__control:checked~label.sk-toggleable__label {background-color: #d4ebff;}#sk-container-id-4 div.sk-label input.sk-toggleable__control:checked~label.sk-toggleable__label {background-color: #d4ebff;}#sk-container-id-4 input.sk-hidden--visually {border: 0;clip: rect(1px 1px 1px 1px);clip: rect(1px, 1px, 1px, 1px);height: 1px;margin: -1px;overflow: hidden;padding: 0;position: absolute;width: 1px;}#sk-container-id-4 div.sk-estimator {font-family: monospace;background-color: #f0f8ff;border: 1px dotted black;border-radius: 0.25em;box-sizing: border-box;margin-bottom: 0.5em;}#sk-container-id-4 div.sk-estimator:hover {background-color: #d4ebff;}#sk-container-id-4 div.sk-parallel-item::after {content: \"\";width: 100%;border-bottom: 1px solid gray;flex-grow: 1;}#sk-container-id-4 div.sk-label:hover label.sk-toggleable__label {background-color: #d4ebff;}#sk-container-id-4 div.sk-serial::before {content: \"\";position: absolute;border-left: 1px solid gray;box-sizing: border-box;top: 0;bottom: 0;left: 50%;z-index: 0;}#sk-container-id-4 div.sk-serial {display: flex;flex-direction: column;align-items: center;background-color: white;padding-right: 0.2em;padding-left: 0.2em;position: relative;}#sk-container-id-4 div.sk-item {position: relative;z-index: 1;}#sk-container-id-4 div.sk-parallel {display: flex;align-items: stretch;justify-content: center;background-color: white;position: relative;}#sk-container-id-4 div.sk-item::before, #sk-container-id-4 div.sk-parallel-item::before {content: \"\";position: absolute;border-left: 1px solid gray;box-sizing: border-box;top: 0;bottom: 0;left: 50%;z-index: -1;}#sk-container-id-4 div.sk-parallel-item {display: flex;flex-direction: column;z-index: 1;position: relative;background-color: white;}#sk-container-id-4 div.sk-parallel-item:first-child::after {align-self: flex-end;width: 50%;}#sk-container-id-4 div.sk-parallel-item:last-child::after {align-self: flex-start;width: 50%;}#sk-container-id-4 div.sk-parallel-item:only-child::after {width: 0;}#sk-container-id-4 div.sk-dashed-wrapped {border: 1px dashed gray;margin: 0 0.4em 0.5em 0.4em;box-sizing: border-box;padding-bottom: 0.4em;background-color: white;}#sk-container-id-4 div.sk-label label {font-family: monospace;font-weight: bold;display: inline-block;line-height: 1.2em;}#sk-container-id-4 div.sk-label-container {text-align: center;}#sk-container-id-4 div.sk-container {/* jupyter's `normalize.less` sets `[hidden] { display: none; }` but bootstrap.min.css set `[hidden] { display: none !important; }` so we also need the `!important` here to be able to override the default hidden behavior on the sphinx rendered scikit-learn.org. See: https://github.com/scikit-learn/scikit-learn/issues/21755 */display: inline-block !important;position: relative;}#sk-container-id-4 div.sk-text-repr-fallback {display: none;}</style><div id=\"sk-container-id-4\" class=\"sk-top-container\"><div class=\"sk-text-repr-fallback\"><pre>RandomForestClassifier(random_state=42)</pre><b>In a Jupyter environment, please rerun this cell to show the HTML representation or trust the notebook. <br />On GitHub, the HTML representation is unable to render, please try loading this page with nbviewer.org.</b></div><div class=\"sk-container\" hidden><div class=\"sk-item\"><div class=\"sk-estimator sk-toggleable\"><input class=\"sk-toggleable__control sk-hidden--visually\" id=\"sk-estimator-id-4\" type=\"checkbox\" checked><label for=\"sk-estimator-id-4\" class=\"sk-toggleable__label sk-toggleable__label-arrow\">RandomForestClassifier</label><div class=\"sk-toggleable__content\"><pre>RandomForestClassifier(random_state=42)</pre></div></div></div></div></div>"
      ],
      "text/plain": [
       "RandomForestClassifier(random_state=42)"
      ]
     },
     "execution_count": 83,
     "metadata": {},
     "output_type": "execute_result"
    }
   ],
   "source": [
    "#Build Random Forest Classifier\n",
    "from sklearn.ensemble import RandomForestClassifier\n",
    "clf=RandomForestClassifier(n_estimators=100, random_state=42)\n",
    "\n",
    "# Train the model\n",
    "clf.fit(X_train, y_train)"
   ]
  },
  {
   "cell_type": "code",
   "execution_count": 84,
   "id": "0d5bc15f",
   "metadata": {},
   "outputs": [
    {
     "name": "stdout",
     "output_type": "stream",
     "text": [
      "Accuracy: 0.3465\n",
      "              precision    recall  f1-score   support\n",
      "\n",
      "           0       0.34      0.43      0.38       660\n",
      "           1       0.35      0.28      0.31       704\n",
      "           2       0.35      0.33      0.34       636\n",
      "\n",
      "    accuracy                           0.35      2000\n",
      "   macro avg       0.35      0.35      0.34      2000\n",
      "weighted avg       0.35      0.35      0.34      2000\n",
      "\n"
     ]
    }
   ],
   "source": [
    "y_pred = clf.predict(X_test)\n",
    "accuracy = accuracy_score(y_test, y_pred)\n",
    "print(f'Accuracy: {accuracy}')\n",
    "\n",
    "# Display classification report\n",
    "print(classification_report(y_test, y_pred))"
   ]
  },
  {
   "cell_type": "code",
   "execution_count": 85,
   "id": "150fe630",
   "metadata": {},
   "outputs": [
    {
     "data": {
      "text/html": [
       "<div>\n",
       "<style scoped>\n",
       "    .dataframe tbody tr th:only-of-type {\n",
       "        vertical-align: middle;\n",
       "    }\n",
       "\n",
       "    .dataframe tbody tr th {\n",
       "        vertical-align: top;\n",
       "    }\n",
       "\n",
       "    .dataframe thead th {\n",
       "        text-align: right;\n",
       "    }\n",
       "</style>\n",
       "<table border=\"1\" class=\"dataframe\">\n",
       "  <thead>\n",
       "    <tr style=\"text-align: right;\">\n",
       "      <th></th>\n",
       "      <th>Feature</th>\n",
       "      <th>Importance</th>\n",
       "    </tr>\n",
       "  </thead>\n",
       "  <tbody>\n",
       "    <tr>\n",
       "      <th>1</th>\n",
       "      <td>BillingAmount</td>\n",
       "      <td>0.175529</td>\n",
       "    </tr>\n",
       "    <tr>\n",
       "      <th>0</th>\n",
       "      <td>Age</td>\n",
       "      <td>0.158278</td>\n",
       "    </tr>\n",
       "    <tr>\n",
       "      <th>2</th>\n",
       "      <td>LengthOfStay</td>\n",
       "      <td>0.145747</td>\n",
       "    </tr>\n",
       "    <tr>\n",
       "      <th>11</th>\n",
       "      <td>AdmissionType_Emergency</td>\n",
       "      <td>0.022682</td>\n",
       "    </tr>\n",
       "    <tr>\n",
       "      <th>10</th>\n",
       "      <td>AdmissionType_Elective</td>\n",
       "      <td>0.022417</td>\n",
       "    </tr>\n",
       "    <tr>\n",
       "      <th>12</th>\n",
       "      <td>AdmissionType_Urgent</td>\n",
       "      <td>0.022167</td>\n",
       "    </tr>\n",
       "    <tr>\n",
       "      <th>28</th>\n",
       "      <td>InsuranceProviderName_Blue Cross</td>\n",
       "      <td>0.019627</td>\n",
       "    </tr>\n",
       "    <tr>\n",
       "      <th>30</th>\n",
       "      <td>InsuranceProviderName_Medicare</td>\n",
       "      <td>0.019605</td>\n",
       "    </tr>\n",
       "    <tr>\n",
       "      <th>27</th>\n",
       "      <td>InsuranceProviderName_Aetna</td>\n",
       "      <td>0.019333</td>\n",
       "    </tr>\n",
       "    <tr>\n",
       "      <th>21</th>\n",
       "      <td>DiseaseName_Arthritis</td>\n",
       "      <td>0.018959</td>\n",
       "    </tr>\n",
       "  </tbody>\n",
       "</table>\n",
       "</div>"
      ],
      "text/plain": [
       "                             Feature  Importance\n",
       "1                      BillingAmount    0.175529\n",
       "0                                Age    0.158278\n",
       "2                       LengthOfStay    0.145747\n",
       "11           AdmissionType_Emergency    0.022682\n",
       "10            AdmissionType_Elective    0.022417\n",
       "12              AdmissionType_Urgent    0.022167\n",
       "28  InsuranceProviderName_Blue Cross    0.019627\n",
       "30    InsuranceProviderName_Medicare    0.019605\n",
       "27       InsuranceProviderName_Aetna    0.019333\n",
       "21             DiseaseName_Arthritis    0.018959"
      ]
     },
     "execution_count": 85,
     "metadata": {},
     "output_type": "execute_result"
    }
   ],
   "source": [
    "feature_names = X_train.columns\n",
    "feature_importances = clf.feature_importances_\n",
    "feature_importance_df = pd.DataFrame({'Feature': feature_names, 'Importance': feature_importances})\n",
    "feature_importance_df.sort_values(by='Importance',ascending = False).head(10)"
   ]
  },
  {
   "cell_type": "code",
   "execution_count": 86,
   "id": "2fab4932",
   "metadata": {},
   "outputs": [
    {
     "data": {
      "image/png": "[encoded data removed]",
      "text/plain": [
       "<Figure size 800x600 with 1 Axes>"
      ]
     },
     "metadata": {},
     "output_type": "display_data"
    }
   ],
   "source": [
    "from sklearn.metrics import confusion_matrix\n",
    "cm = confusion_matrix(y_test, y_pred)\n",
    "\n",
    "# Display the confusion matrix as a heatmap\n",
    "labels = clf.classes_\n",
    "cm_df = pd.DataFrame(cm, index=labels, columns=labels)\n",
    "\n",
    "plt.figure(figsize=(8, 6))\n",
    "sns.heatmap(cm_df, annot=True, fmt=\"d\", cmap=\"Blues\", cbar=False)\n",
    "plt.title('Confusion Matrix')\n",
    "plt.xlabel('Predicted')\n",
    "plt.ylabel('Actual')\n",
    "plt.show()\n"
   ]
  },
  {
   "cell_type": "code",
   "execution_count": 87,
   "id": "c99bff0e",
   "metadata": {},
   "outputs": [
    {
     "name": "stdout",
     "output_type": "stream",
     "text": [
      "[0.5865671641791045, 0.7175925925925926, 0.716275659824047]\n"
     ]
    }
   ],
   "source": [
    "target_class = [0,1,2]\n",
    "specificity = []\n",
    "for c in target_class:\n",
    "    TN = sum(cm[i, j] for i in range(len(cm)) for j in range(len(cm)) if i != c and j != c)\n",
    "    FP = sum(cm[i, c] for i in range(len(cm)) if i != c)\n",
    "    s = TN / (TN + FP)\n",
    "    specificity.append(s)\n",
    "print(specificity)\n",
    "    \n",
    "\n",
    "    "
   ]
  },
  {
   "cell_type": "code",
   "execution_count": 91,
   "id": "afa68e45",
   "metadata": {},
   "outputs": [
    {
     "ename": "SyntaxError",
     "evalue": "f-string: invalid syntax. Perhaps you forgot a comma? (3057881443.py, line 4)",
     "output_type": "error",
     "traceback": [
      "\u001b[0;36m  Cell \u001b[0;32mIn[91], line 4\u001b[0;36m\u001b[0m\n\u001b[0;31m    print(f'Specificity for 1 class label : {specificity[1]f}')\u001b[0m\n\u001b[0m     ^\u001b[0m\n\u001b[0;31mSyntaxError\u001b[0m\u001b[0;31m:\u001b[0m f-string: invalid syntax. Perhaps you forgot a comma?\n"
     ]
    }
   ],
   "source": [
    "# Results:\n",
    "print(f'Specificity for 0 class label : {specificity[0]}')\n",
    "print(f'Sensitivity for 0 class label : {0.43}')\n",
    "print(f'Specificity for 1 class label : {specificity[1]f}')\n",
    "print(f'Specificity for 0 class label : {0.28}')\n",
    "print(f'Specificity for 2 class label : {specificity[2]}')\n",
    "print(f'Specificity for 0 class label : {0.33}')"
   ]
  },
  {
   "cell_type": "code",
   "execution_count": 64,
   "id": "974394bb",
   "metadata": {},
   "outputs": [
    {
     "name": "stdout",
     "output_type": "stream",
     "text": [
      "Accuracy: 0.33\n",
      "              precision    recall  f1-score   support\n",
      "\n",
      "           0       0.33      1.00      0.50       660\n",
      "           1       0.00      0.00      0.00       704\n",
      "           2       0.00      0.00      0.00       636\n",
      "\n",
      "    accuracy                           0.33      2000\n",
      "   macro avg       0.11      0.33      0.17      2000\n",
      "weighted avg       0.11      0.33      0.16      2000\n",
      "\n"
     ]
    },
    {
     "name": "stderr",
     "output_type": "stream",
     "text": [
      "/Users/kumarbaibhav/anaconda3/lib/python3.11/site-packages/sklearn/metrics/_classification.py:1469: UndefinedMetricWarning: Precision and F-score are ill-defined and being set to 0.0 in labels with no predicted samples. Use `zero_division` parameter to control this behavior.\n",
      "  _warn_prf(average, modifier, msg_start, len(result))\n",
      "/Users/kumarbaibhav/anaconda3/lib/python3.11/site-packages/sklearn/metrics/_classification.py:1469: UndefinedMetricWarning: Precision and F-score are ill-defined and being set to 0.0 in labels with no predicted samples. Use `zero_division` parameter to control this behavior.\n",
      "  _warn_prf(average, modifier, msg_start, len(result))\n",
      "/Users/kumarbaibhav/anaconda3/lib/python3.11/site-packages/sklearn/metrics/_classification.py:1469: UndefinedMetricWarning: Precision and F-score are ill-defined and being set to 0.0 in labels with no predicted samples. Use `zero_division` parameter to control this behavior.\n",
      "  _warn_prf(average, modifier, msg_start, len(result))\n"
     ]
    },
    {
     "data": {
      "image/png": "[encoded data removed]",
      "text/plain": [
       "<Figure size 800x600 with 1 Axes>"
      ]
     },
     "metadata": {},
     "output_type": "display_data"
    },
    {
     "name": "stdout",
     "output_type": "stream",
     "text": [
      "Specificity: 0.59\n"
     ]
    }
   ],
   "source": [
    "#Build Logistic Regression Model\n",
    "from sklearn.linear_model import LogisticRegression\n",
    "clf = LogisticRegression(random_state=42)\n",
    "\n",
    "# Train the model\n",
    "clf.fit(X_train, y_train)\n",
    "\n",
    "# Make predictions on the test set\n",
    "y_pred = clf.predict(X_test)\n",
    "\n",
    "# Evaluate the model\n",
    "accuracy = accuracy_score(y_test, y_pred)\n",
    "print(f'Accuracy: {accuracy}')\n",
    "\n",
    "# Display classification report\n",
    "print(classification_report(y_test, y_pred))\n",
    "\n",
    "# Display confusion matrix as a heatmap\n",
    "cm = confusion_matrix(y_test, y_pred)\n",
    "labels = clf.classes_\n",
    "cm_df = pd.DataFrame(cm, index=labels, columns=labels)\n",
    "\n",
    "plt.figure(figsize=(8, 6))\n",
    "sns.heatmap(cm_df, annot=True, fmt=\"d\", cmap=\"Blues\", cbar=False)\n",
    "plt.title('Confusion Matrix')\n",
    "plt.xlabel('Predicted')\n",
    "plt.ylabel('Actual')\n",
    "plt.show()\n",
    "target_class = 0\n",
    "TN = sum(cm[i, j] for i in range(len(cm)) for j in range(len(cm)) if i != target_class and j != target_class)\n",
    "FP = sum(cm[i, target_class] for i in range(len(cm)) if i != target_class)\n",
    "print(f'Specificity: {specificity:.2f}')"
   ]
  },
  {
   "cell_type": "code",
   "execution_count": 67,
   "id": "e516a4f6",
   "metadata": {},
   "outputs": [
    {
     "name": "stdout",
     "output_type": "stream",
     "text": [
      "Accuracy: 0.3235\n",
      "              precision    recall  f1-score   support\n",
      "\n",
      "           0       0.32      0.31      0.31       660\n",
      "           1       0.34      0.31      0.32       704\n",
      "           2       0.31      0.35      0.33       636\n",
      "\n",
      "    accuracy                           0.32      2000\n",
      "   macro avg       0.32      0.32      0.32      2000\n",
      "weighted avg       0.32      0.32      0.32      2000\n",
      "\n"
     ]
    },
    {
     "data": {
      "image/png": "[encoded data removed]",
      "text/plain": [
       "<Figure size 800x600 with 1 Axes>"
      ]
     },
     "metadata": {},
     "output_type": "display_data"
    },
    {
     "name": "stdout",
     "output_type": "stream",
     "text": [
      "Specificity: 0.59\n"
     ]
    }
   ],
   "source": [
    "# Build Decision Tree Classifier\n",
    "from sklearn.tree import DecisionTreeClassifier\n",
    "clf = DecisionTreeClassifier(random_state=42)\n",
    "\n",
    "# Train the model\n",
    "clf.fit(X_train, y_train)\n",
    "\n",
    "# Make predictions on the test set\n",
    "y_pred = clf.predict(X_test)\n",
    "\n",
    "# Evaluate the model\n",
    "accuracy = accuracy_score(y_test, y_pred)\n",
    "print(f'Accuracy: {accuracy}')\n",
    "\n",
    "# Display classification report\n",
    "print(classification_report(y_test, y_pred))\n",
    "\n",
    "# Display confusion matrix as a heatmap\n",
    "cm = confusion_matrix(y_test, y_pred)\n",
    "labels = clf.classes_\n",
    "cm_df = pd.DataFrame(cm, index=labels, columns=labels)\n",
    "\n",
    "plt.figure(figsize=(8, 6))\n",
    "sns.heatmap(cm_df, annot=True, fmt=\"d\", cmap=\"Blues\", cbar=False)\n",
    "plt.title('Confusion Matrix')\n",
    "plt.xlabel('Predicted')\n",
    "plt.ylabel('Actual')\n",
    "plt.show()\n",
    "target_class = 0\n",
    "TN = sum(cm[i, j] for i in range(len(cm)) for j in range(len(cm)) if i != target_class and j != target_class)\n",
    "FP = sum(cm[i, target_class] for i in range(len(cm)) if i != target_class)\n",
    "print(f'Specificity: {specificity:.2f}')"
   ]
  },
  {
   "cell_type": "markdown",
   "id": "0a31b11f",
   "metadata": {},
   "source": [
    "# Conclusions:\n",
    "1) The Random Forest model performed the best on the data with an overall accuracy of about 34.65%, the accuracy for predicting all the 3 labels was also approximately equal which maybe due to the balance between the classes in the data.\n",
    "2) The Logistic Regression Model gave an overall accuracy of 33%, but it was only able to predict '0' class label correctly, and not a single observation corresponding to labels '1' and '2' were predicted correctly by the logistic regression model.\n",
    "3) The Single Classification Tree model gave an overall accuracy of about 32%, with the accuracy of predicting all 3 labels in the range of (31-33)% which is similar to the Random Forest model.\n",
    "4) Using the feature importance values obtained from the random forest model, we can conclude that Billing Amount, Age and Length of Stay were the most important features influencing the classification of target variable (ResultType).\n",
    "5) We can also conclude that despite the Random Forest model despite performing the best, the overall accuracy of 35% is not satisfactory and is almost equal to randomly predicting the response with the probability being (1/3). "
   ]
  },
  {
   "cell_type": "code",
   "execution_count": null,
   "id": "87935032",
   "metadata": {},
   "outputs": [],
   "source": []
  }
 ],
 "metadata": {
  "kernelspec": {
   "display_name": "Python 3 (ipykernel)",
   "language": "python",
   "name": "python3"
  },
  "language_info": {
   "codemirror_mode": {
    "name": "ipython",
    "version": 3
   },
   "file_extension": ".py",
   "mimetype": "text/x-python",
   "name": "python",
   "nbconvert_exporter": "python",
   "pygments_lexer": "ipython3",
   "version": "3.11.5"
  }
 },
 "nbformat": 4,
 "nbformat_minor": 5
}
